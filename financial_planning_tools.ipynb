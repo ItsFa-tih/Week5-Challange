{
 "cells": [
  {
   "cell_type": "markdown",
   "metadata": {},
   "source": [
    "# Financial Planning with APIs and Simulations\n",
    "\n",
    "In this Challenge, you’ll create two financial analysis tools by using a single Jupyter notebook:\n",
    "\n",
    "Part 1: A financial planner for emergencies. The members will be able to use this tool to visualize their current savings. The members can then determine if they have enough reserves for an emergency fund.\n",
    "\n",
    "Part 2: A financial planner for retirement. This tool will forecast the performance of their retirement portfolio in 30 years. To do this, the tool will make an Alpaca API call via the Alpaca SDK to get historical price data for use in Monte Carlo simulations.\n",
    "\n",
    "You’ll use the information from the Monte Carlo simulation to answer questions about the portfolio in your Jupyter notebook.\n",
    "\n"
   ]
  },
  {
   "cell_type": "code",
   "execution_count": 1,
   "metadata": {},
   "outputs": [],
   "source": [
    "# Import the required libraries and dependencies\n",
    "import os\n",
    "import requests\n",
    "import json\n",
    "import pandas as pd\n",
    "from dotenv import load_dotenv, find_dotenv\n",
    "import alpaca_trade_api as tradeapi\n",
    "from MCForecastTools import MCSimulation\n",
    "from datetime import timedelta\n",
    "%matplotlib inline"
   ]
  },
  {
   "cell_type": "code",
   "execution_count": 2,
   "metadata": {},
   "outputs": [
    {
     "data": {
      "text/plain": [
       "True"
      ]
     },
     "execution_count": 2,
     "metadata": {},
     "output_type": "execute_result"
    }
   ],
   "source": [
    "# Load the environment variables from the .env file\n",
    "#by calling the load_dotenv function\n",
    "load_dotenv()"
   ]
  },
  {
   "cell_type": "markdown",
   "metadata": {},
   "source": [
    "## Part 1: Create a Financial Planner for Emergencies"
   ]
  },
  {
   "cell_type": "markdown",
   "metadata": {},
   "source": [
    "### Evaluate the Cryptocurrency Wallet by Using the Requests Library\n",
    "\n",
    "In this section, you’ll determine the current value of a member’s cryptocurrency wallet. You’ll collect the current prices for the Bitcoin and Ethereum cryptocurrencies by using the Python Requests library. For the prototype, you’ll assume that the member holds the 1.2 Bitcoins (BTC) and 5.3 Ethereum coins (ETH). To do all this, complete the following steps:\n",
    "\n",
    "1. Create a variable named `monthly_income`, and set its value to `12000`.\n",
    "\n",
    "2. Use the Requests library to get the current price (in US dollars) of Bitcoin (BTC) and Ethereum (ETH) by using the API endpoints that the starter code supplies.\n",
    "\n",
    "3. Navigate the JSON response object to access the current price of each coin, and store each in a variable.\n",
    "\n",
    "    > **Hint** Note the specific identifier for each cryptocurrency in the API JSON response. The Bitcoin identifier is `1`, and the Ethereum identifier is `1027`.\n",
    "\n",
    "4. Calculate the value, in US dollars, of the current amount of each cryptocurrency and of the entire cryptocurrency wallet.\n",
    "\n"
   ]
  },
  {
   "cell_type": "code",
   "execution_count": 3,
   "metadata": {},
   "outputs": [],
   "source": [
    "# The current number of coins for each cryptocurrency asset held in the portfolio.\n",
    "btc_coins = 1.2\n",
    "eth_coins = 5.3"
   ]
  },
  {
   "cell_type": "markdown",
   "metadata": {},
   "source": [
    "#### Step 1: Create a variable named `monthly_income`, and set its value to `12000`."
   ]
  },
  {
   "cell_type": "code",
   "execution_count": 4,
   "metadata": {},
   "outputs": [],
   "source": [
    "# The monthly amount for the member's household income\n",
    "monthly_income=12000\n"
   ]
  },
  {
   "cell_type": "markdown",
   "metadata": {},
   "source": [
    "#### Review the endpoint URLs for the API calls to Free Crypto API in order to get the current pricing information for both BTC and ETH."
   ]
  },
  {
   "cell_type": "code",
   "execution_count": 5,
   "metadata": {},
   "outputs": [],
   "source": [
    "# The Free Crypto API Call endpoint URLs for the held cryptocurrency assets\n",
    "btc_url = \"https://api.alternative.me/v2/ticker/Bitcoin/?convert=USD\"\n",
    "eth_url = \"https://api.alternative.me/v2/ticker/Ethereum/?convert=USD\""
   ]
  },
  {
   "cell_type": "markdown",
   "metadata": {},
   "source": [
    "#### Step 2. Use the Requests library to get the current price (in US dollars) of Bitcoin (BTC) and Ethereum (ETH) by using the API endpoints that the starter code supplied."
   ]
  },
  {
   "cell_type": "code",
   "execution_count": 6,
   "metadata": {},
   "outputs": [
    {
     "name": "stdout",
     "output_type": "stream",
     "text": [
      "{\n",
      "    \"data\": {\n",
      "        \"1\": {\n",
      "            \"circulating_supply\": 18884043,\n",
      "            \"id\": 1,\n",
      "            \"last_updated\": 1637967267,\n",
      "            \"max_supply\": 21000000,\n",
      "            \"name\": \"Bitcoin\",\n",
      "            \"quotes\": {\n",
      "                \"USD\": {\n",
      "                    \"market_cap\": 1024487849702,\n",
      "                    \"percent_change_1h\": -0.213467558130261,\n",
      "                    \"percent_change_24h\": -7.95887763472265,\n",
      "                    \"percent_change_7d\": -4.90267593905061,\n",
      "                    \"percentage_change_1h\": -0.213467558130261,\n",
      "                    \"percentage_change_24h\": -7.95887763472265,\n",
      "                    \"percentage_change_7d\": -4.90267593905061,\n",
      "                    \"price\": 54193.0,\n",
      "                    \"volume_24h\": 40274661828\n",
      "                }\n",
      "            },\n",
      "            \"rank\": 1,\n",
      "            \"symbol\": \"BTC\",\n",
      "            \"total_supply\": 18884043,\n",
      "            \"website_slug\": \"bitcoin\"\n",
      "        }\n",
      "    },\n",
      "    \"metadata\": {\n",
      "        \"error\": null,\n",
      "        \"num_cryptocurrencies\": 3105,\n",
      "        \"timestamp\": 1637967267\n",
      "    }\n",
      "}\n"
     ]
    }
   ],
   "source": [
    "# Using the Python requests library, make an API call to access the current price of BTC\n",
    "btc_response = requests.get(btc_url).json()\n",
    "\n",
    "# Use the json.dumps function to review the response data from the API call\n",
    "# Use the indent and sort_keys parameters to make the response object readable\n",
    "print(json.dumps(btc_response, sort_keys=True, indent=4))\n"
   ]
  },
  {
   "cell_type": "code",
   "execution_count": 7,
   "metadata": {},
   "outputs": [
    {
     "name": "stdout",
     "output_type": "stream",
     "text": [
      "{\n",
      "    \"data\": {\n",
      "        \"1027\": {\n",
      "            \"circulating_supply\": 118502645,\n",
      "            \"id\": 1027,\n",
      "            \"last_updated\": 1637967182,\n",
      "            \"max_supply\": 0,\n",
      "            \"name\": \"Ethereum\",\n",
      "            \"quotes\": {\n",
      "                \"USD\": {\n",
      "                    \"market_cap\": 484995500852,\n",
      "                    \"percent_change_1h\": -0.325467047396146,\n",
      "                    \"percent_change_24h\": -9.19269985431289,\n",
      "                    \"percent_change_7d\": 2.38806521122054,\n",
      "                    \"percentage_change_1h\": -0.325467047396146,\n",
      "                    \"percentage_change_24h\": -9.19269985431289,\n",
      "                    \"percentage_change_7d\": 2.38806521122054,\n",
      "                    \"price\": 4089.22,\n",
      "                    \"volume_24h\": 29253306015\n",
      "                }\n",
      "            },\n",
      "            \"rank\": 2,\n",
      "            \"symbol\": \"ETH\",\n",
      "            \"total_supply\": 118502645,\n",
      "            \"website_slug\": \"ethereum\"\n",
      "        }\n",
      "    },\n",
      "    \"metadata\": {\n",
      "        \"error\": null,\n",
      "        \"num_cryptocurrencies\": 3105,\n",
      "        \"timestamp\": 1637967182\n",
      "    }\n",
      "}\n"
     ]
    }
   ],
   "source": [
    "# Using the Python requests library, make an API call to access the current price ETH\n",
    "eth_response = requests.get(eth_url).json()\n",
    "\n",
    "# Use the json.dumps function to review the response data from the API call\n",
    "# Use the indent and sort_keys parameters to make the response object readable\n",
    "print(json.dumps(eth_response, sort_keys=True, indent=4))\n"
   ]
  },
  {
   "cell_type": "markdown",
   "metadata": {},
   "source": [
    "#### Step 3: Navigate the JSON response object to access the current price of each coin, and store each in a variable."
   ]
  },
  {
   "cell_type": "code",
   "execution_count": 8,
   "metadata": {
    "scrolled": true
   },
   "outputs": [
    {
     "name": "stdout",
     "output_type": "stream",
     "text": [
      "54193.0\n"
     ]
    }
   ],
   "source": [
    "# Navigate the BTC response object to access the current price of BTC\n",
    "btc_price = btc_response[\"data\"][\"1\"][\"quotes\"][\"USD\"][\"price\"]\n",
    "\n",
    "# Print the current price of BTC\n",
    "print(btc_price)\n"
   ]
  },
  {
   "cell_type": "code",
   "execution_count": 9,
   "metadata": {},
   "outputs": [
    {
     "name": "stdout",
     "output_type": "stream",
     "text": [
      "4089.22\n"
     ]
    }
   ],
   "source": [
    "# Navigate the ETH response object to access the current price of ETH\n",
    "eth_price = eth_response[\"data\"][\"1027\"][\"quotes\"][\"USD\"][\"price\"]\n",
    "\n",
    "# Print the current price of ETH\n",
    "print(eth_price)\n"
   ]
  },
  {
   "cell_type": "markdown",
   "metadata": {},
   "source": [
    "### Step 4: Calculate the value, in US dollars, of the current amount of each cryptocurrency and of the entire cryptocurrency wallet."
   ]
  },
  {
   "cell_type": "code",
   "execution_count": 10,
   "metadata": {},
   "outputs": [
    {
     "name": "stdout",
     "output_type": "stream",
     "text": [
      "65031.6\n"
     ]
    }
   ],
   "source": [
    "# Compute the current value of the BTC holding \n",
    "btc_value = btc_coins*btc_price\n",
    "\n",
    "# Print current value of your holding in BTC\n",
    "print(btc_value)\n"
   ]
  },
  {
   "cell_type": "code",
   "execution_count": 11,
   "metadata": {},
   "outputs": [
    {
     "name": "stdout",
     "output_type": "stream",
     "text": [
      "21672.865999999998\n"
     ]
    }
   ],
   "source": [
    "# Compute the current value of the ETH holding \n",
    "eth_value = eth_coins*eth_price\n",
    "\n",
    "# Print current value of your holding in ETH\n",
    "print(eth_value)\n"
   ]
  },
  {
   "cell_type": "code",
   "execution_count": 12,
   "metadata": {},
   "outputs": [
    {
     "name": "stdout",
     "output_type": "stream",
     "text": [
      "86704.466\n"
     ]
    }
   ],
   "source": [
    "# Compute the total value of the cryptocurrency wallet\n",
    "# Add the value of the BTC holding to the value of the ETH holding\n",
    "total_crypto_wallet = btc_value+eth_value\n",
    "\n",
    "# Print current cryptocurrency wallet balance\n",
    "print(total_crypto_wallet)\n"
   ]
  },
  {
   "cell_type": "markdown",
   "metadata": {},
   "source": [
    "### Evaluate the Stock and Bond Holdings by Using the Alpaca SDK\n",
    "\n",
    "In this section, you’ll determine the current value of a member’s stock and bond holdings. You’ll make an API call to Alpaca via the Alpaca SDK to get the current closing prices of the SPDR S&P 500 ETF Trust (ticker: SPY) and of the iShares Core US Aggregate Bond ETF (ticker: AGG). For the prototype, assume that the member holds 110 shares of SPY, which represents the stock portion of their portfolio, and 200 shares of AGG, which represents the bond portion. To do all this, complete the following steps:\n",
    "\n",
    "1. In the `Starter_Code` folder, create an environment file (`.env`) to store the values of your Alpaca API key and Alpaca secret key.\n",
    "\n",
    "2. Set the variables for the Alpaca API and secret keys. Using the Alpaca SDK, create the Alpaca `tradeapi.REST` object. In this object, include the parameters for the Alpaca API key, the secret key, and the version number.\n",
    "\n",
    "3. Set the following parameters for the Alpaca API call:\n",
    "\n",
    "    - `tickers`: Use the tickers for the member’s stock and bond holdings.\n",
    "\n",
    "    - `timeframe`: Use a time frame of one day.\n",
    "\n",
    "    - `start_date` and `end_date`: Use the same date for these parameters, and format them with the date of the previous weekday (or `2020-08-07`). This is because you want the one closing price for the most-recent trading day.\n",
    "\n",
    "4. Get the current closing prices for `SPY` and `AGG` by using the Alpaca `get_barset` function. Format the response as a Pandas DataFrame by including the `df` property at the end of the `get_barset` function.\n",
    "\n",
    "5. Navigating the Alpaca response DataFrame, select the `SPY` and `AGG` closing prices, and store them as variables.\n",
    "\n",
    "6. Calculate the value, in US dollars, of the current amount of shares in each of the stock and bond portions of the portfolio, and print the results.\n"
   ]
  },
  {
   "cell_type": "markdown",
   "metadata": {},
   "source": [
    "#### Review the total number of shares held in both (SPY) and (AGG)."
   ]
  },
  {
   "cell_type": "code",
   "execution_count": 13,
   "metadata": {},
   "outputs": [],
   "source": [
    "# Current amount of shares held in both the stock (SPY) and bond (AGG) portion of the portfolio.\n",
    "spy_shares = 110\n",
    "agg_shares = 200\n"
   ]
  },
  {
   "cell_type": "markdown",
   "metadata": {},
   "source": [
    "#### Step 1: In the `Starter_Code` folder, create an environment file (`.env`) to store the values of your Alpaca API key and Alpaca secret key."
   ]
  },
  {
   "cell_type": "markdown",
   "metadata": {},
   "source": [
    "#### Step 2: Set the variables for the Alpaca API and secret keys. Using the Alpaca SDK, create the Alpaca `tradeapi.REST` object. In this object, include the parameters for the Alpaca API key, the secret key, and the version number."
   ]
  },
  {
   "cell_type": "code",
   "execution_count": 14,
   "metadata": {
    "scrolled": true
   },
   "outputs": [],
   "source": [
    "# Set the variables for the Alpaca API and secret keysAl\n",
    " \n",
    "alpaca_api_key = os.getenv(\"alpaca_api_key1\")\n",
    "alpaca_secret_key = os.getenv(\"alpaca_secret_key1\")\n",
    "#print(alpaca_secret_key)\n",
    "#print(alpaca_api_key)\n",
    "#Create the Alpaca tradeapi.REST object\n",
    "alpaca=tradeapi.REST(alpaca_api_key,alpaca_secret_key,api_version=\"V2\")\n"
   ]
  },
  {
   "cell_type": "markdown",
   "metadata": {},
   "source": [
    "#### Step 3: Set the following parameters for the Alpaca API call:\n",
    "\n",
    "- `tickers`: Use the tickers for the member’s stock and bond holdings.\n",
    "\n",
    "- `timeframe`: Use a time frame of one day.\n",
    "\n",
    "- `start_date` and `end_date`: Use the same date for these parameters, and format them with the date of the previous weekday (or `2020-08-07`). This is because you want the one closing price for the most-recent trading day.\n"
   ]
  },
  {
   "cell_type": "code",
   "execution_count": 15,
   "metadata": {},
   "outputs": [
    {
     "name": "stdout",
     "output_type": "stream",
     "text": [
      "2021-11-25T14:59:47.106577\n"
     ]
    }
   ],
   "source": [
    "# Set the tickers for both the bond and stock portion of the portfolio\n",
    "tickers=[\"SPY\",\"AGG\"]\n",
    "\n",
    "# Set timeframe to 1D \n",
    "timeframe=\"1D\"\n",
    "\n",
    "# Format current date as ISO format\n",
    "# Set both the start and end date at the date of your prior weekday \n",
    "# This will give you the closing price of the previous trading day\n",
    "# Alternatively you can use a start and end date of 2020-08-07\n",
    "today=pd.Timestamp.today()\n",
    "yesterday= today-timedelta(days=1)\n",
    "print(yesterday.isoformat())\n",
    "\n",
    "\n",
    "\n"
   ]
  },
  {
   "cell_type": "markdown",
   "metadata": {},
   "source": [
    "#### Step 4: Get the current closing prices for `SPY` and `AGG` by using the Alpaca `get_barset` function. Format the response as a Pandas DataFrame by including the `df` property at the end of the `get_barset` function."
   ]
  },
  {
   "cell_type": "code",
   "execution_count": 19,
   "metadata": {},
   "outputs": [
    {
     "data": {
      "text/html": [
       "<div>\n",
       "<style scoped>\n",
       "    .dataframe tbody tr th:only-of-type {\n",
       "        vertical-align: middle;\n",
       "    }\n",
       "\n",
       "    .dataframe tbody tr th {\n",
       "        vertical-align: top;\n",
       "    }\n",
       "\n",
       "    .dataframe thead tr th {\n",
       "        text-align: left;\n",
       "    }\n",
       "\n",
       "    .dataframe thead tr:last-of-type th {\n",
       "        text-align: right;\n",
       "    }\n",
       "</style>\n",
       "<table border=\"1\" class=\"dataframe\">\n",
       "  <thead>\n",
       "    <tr>\n",
       "      <th></th>\n",
       "      <th colspan=\"5\" halign=\"left\">AGG</th>\n",
       "      <th colspan=\"5\" halign=\"left\">SPY</th>\n",
       "    </tr>\n",
       "    <tr>\n",
       "      <th></th>\n",
       "      <th>open</th>\n",
       "      <th>high</th>\n",
       "      <th>low</th>\n",
       "      <th>close</th>\n",
       "      <th>volume</th>\n",
       "      <th>open</th>\n",
       "      <th>high</th>\n",
       "      <th>low</th>\n",
       "      <th>close</th>\n",
       "      <th>volume</th>\n",
       "    </tr>\n",
       "    <tr>\n",
       "      <th>time</th>\n",
       "      <th></th>\n",
       "      <th></th>\n",
       "      <th></th>\n",
       "      <th></th>\n",
       "      <th></th>\n",
       "      <th></th>\n",
       "      <th></th>\n",
       "      <th></th>\n",
       "      <th></th>\n",
       "      <th></th>\n",
       "    </tr>\n",
       "  </thead>\n",
       "  <tbody>\n",
       "    <tr>\n",
       "      <th>2021-11-19 00:00:00-05:00</th>\n",
       "      <td>114.49</td>\n",
       "      <td>114.5900</td>\n",
       "      <td>114.4150</td>\n",
       "      <td>114.45</td>\n",
       "      <td>4843203</td>\n",
       "      <td>469.61</td>\n",
       "      <td>470.940</td>\n",
       "      <td>468.50</td>\n",
       "      <td>468.91</td>\n",
       "      <td>49009452</td>\n",
       "    </tr>\n",
       "    <tr>\n",
       "      <th>2021-11-22 00:00:00-05:00</th>\n",
       "      <td>114.14</td>\n",
       "      <td>114.2300</td>\n",
       "      <td>113.8200</td>\n",
       "      <td>113.88</td>\n",
       "      <td>6216218</td>\n",
       "      <td>470.81</td>\n",
       "      <td>473.540</td>\n",
       "      <td>467.35</td>\n",
       "      <td>467.53</td>\n",
       "      <td>61497941</td>\n",
       "    </tr>\n",
       "    <tr>\n",
       "      <th>2021-11-23 00:00:00-05:00</th>\n",
       "      <td>113.71</td>\n",
       "      <td>113.7700</td>\n",
       "      <td>113.4500</td>\n",
       "      <td>113.45</td>\n",
       "      <td>5835080</td>\n",
       "      <td>467.22</td>\n",
       "      <td>469.095</td>\n",
       "      <td>464.45</td>\n",
       "      <td>468.25</td>\n",
       "      <td>62851184</td>\n",
       "    </tr>\n",
       "    <tr>\n",
       "      <th>2021-11-24 00:00:00-05:00</th>\n",
       "      <td>113.47</td>\n",
       "      <td>113.7250</td>\n",
       "      <td>113.3905</td>\n",
       "      <td>113.72</td>\n",
       "      <td>5959367</td>\n",
       "      <td>466.06</td>\n",
       "      <td>469.570</td>\n",
       "      <td>465.19</td>\n",
       "      <td>469.37</td>\n",
       "      <td>54274217</td>\n",
       "    </tr>\n",
       "    <tr>\n",
       "      <th>2021-11-26 00:00:00-05:00</th>\n",
       "      <td>114.28</td>\n",
       "      <td>114.5769</td>\n",
       "      <td>114.2000</td>\n",
       "      <td>114.54</td>\n",
       "      <td>2886169</td>\n",
       "      <td>462.38</td>\n",
       "      <td>463.900</td>\n",
       "      <td>457.77</td>\n",
       "      <td>459.03</td>\n",
       "      <td>93783057</td>\n",
       "    </tr>\n",
       "  </tbody>\n",
       "</table>\n",
       "</div>"
      ],
      "text/plain": [
       "                              AGG                                       \\\n",
       "                             open      high       low   close   volume   \n",
       "time                                                                     \n",
       "2021-11-19 00:00:00-05:00  114.49  114.5900  114.4150  114.45  4843203   \n",
       "2021-11-22 00:00:00-05:00  114.14  114.2300  113.8200  113.88  6216218   \n",
       "2021-11-23 00:00:00-05:00  113.71  113.7700  113.4500  113.45  5835080   \n",
       "2021-11-24 00:00:00-05:00  113.47  113.7250  113.3905  113.72  5959367   \n",
       "2021-11-26 00:00:00-05:00  114.28  114.5769  114.2000  114.54  2886169   \n",
       "\n",
       "                              SPY                                     \n",
       "                             open     high     low   close    volume  \n",
       "time                                                                  \n",
       "2021-11-19 00:00:00-05:00  469.61  470.940  468.50  468.91  49009452  \n",
       "2021-11-22 00:00:00-05:00  470.81  473.540  467.35  467.53  61497941  \n",
       "2021-11-23 00:00:00-05:00  467.22  469.095  464.45  468.25  62851184  \n",
       "2021-11-24 00:00:00-05:00  466.06  469.570  465.19  469.37  54274217  \n",
       "2021-11-26 00:00:00-05:00  462.38  463.900  457.77  459.03  93783057  "
      ]
     },
     "execution_count": 19,
     "metadata": {},
     "output_type": "execute_result"
    }
   ],
   "source": [
    "# Use the Alpaca get_barset function to get current closing prices the portfolio\n",
    "# Be sure to set the `df` property after the function to format the response object as a DataFrame\n",
    "spy_agg_df=alpaca.get_barset(tickers,timeframe, start=yesterday.isoformat(), end=today.isoformat()).df\n",
    "\n",
    "# Review the last 5 rows of the Alpaca DataFrame\n",
    "# YOUR CODE HERE\n",
    "spy_agg_df.tail(5)"
   ]
  },
  {
   "cell_type": "markdown",
   "metadata": {},
   "source": [
    "#### Step 5: Navigating the Alpaca response DataFrame, select the `SPY` and `AGG` closing prices, and store them as variables."
   ]
  },
  {
   "cell_type": "code",
   "execution_count": 38,
   "metadata": {},
   "outputs": [
    {
     "name": "stdout",
     "output_type": "stream",
     "text": [
      "114.54\n"
     ]
    }
   ],
   "source": [
    "\n",
    "# Access the closing price for AGG from the Alpaca DataFrame\n",
    "# Converting the value to a floating point number\n",
    "\n",
    "\n",
    "agg_close_price = spy_agg_df[\"AGG\"][\"close\"].iloc[-1]\n",
    "# Print the AGG closing price\n",
    "print(float(agg_close_price))\n"
   ]
  },
  {
   "cell_type": "code",
   "execution_count": 39,
   "metadata": {},
   "outputs": [
    {
     "name": "stdout",
     "output_type": "stream",
     "text": [
      "459.03\n"
     ]
    }
   ],
   "source": [
    "# Access the closing price for SPY from the Alpaca DataFrame\n",
    "# Converting the value to a floating point number\n",
    "spy_close_price = spy_agg_df[\"SPY\"][\"close\"].iloc[-1]\n",
    "\n",
    "# Print the SPY closing price\n",
    "print(float(spy_close_price))\n",
    "\n"
   ]
  },
  {
   "cell_type": "markdown",
   "metadata": {},
   "source": [
    "#### Step 6: Calculate the value, in US dollars, of the current amount of shares in each of the stock and bond portions of the portfolio, and print the results."
   ]
  },
  {
   "cell_type": "code",
   "execution_count": 42,
   "metadata": {},
   "outputs": [
    {
     "name": "stdout",
     "output_type": "stream",
     "text": [
      "22908.0\n"
     ]
    }
   ],
   "source": [
    "# Calculate the current value of the bond portion of the portfolio\n",
    "agg_value = agg_close_price*agg_shares\n",
    "\n",
    "# Print the current value of the bond portfolio\n",
    "print(agg_value)\n"
   ]
  },
  {
   "cell_type": "code",
   "execution_count": 43,
   "metadata": {},
   "outputs": [
    {
     "name": "stdout",
     "output_type": "stream",
     "text": [
      "50493.299999999996\n"
     ]
    }
   ],
   "source": [
    "# Calculate the current value of the stock portion of the portfolio\n",
    "spy_value = spy_close_price*spy_shares\n",
    "\n",
    "# Print the current value of the stock portfolio\n",
    "print(spy_value)\n"
   ]
  },
  {
   "cell_type": "code",
   "execution_count": 44,
   "metadata": {},
   "outputs": [
    {
     "name": "stdout",
     "output_type": "stream",
     "text": [
      "73401.29999999999\n"
     ]
    }
   ],
   "source": [
    "# Calculate the total value of the stock and bond portion of the portfolio\n",
    "total_stocks_bonds = agg_value+spy_value\n",
    "\n",
    "# Print the current balance of the stock and bond portion of the portfolio\n",
    "print(total_stocks_bonds)\n"
   ]
  },
  {
   "cell_type": "code",
   "execution_count": 47,
   "metadata": {},
   "outputs": [
    {
     "name": "stdout",
     "output_type": "stream",
     "text": [
      "160105.766\n"
     ]
    }
   ],
   "source": [
    "# Calculate the total value of the member's entire savings portfolio\n",
    "# Add the value of the cryptocurrency walled to the value of the total stocks and bonds\n",
    "total_portfolio = total_stocks_bonds+total_crypto_wallet\n",
    "\n",
    "# Print current cryptocurrency wallet balance\n",
    "print(float(total_portfolio))\n"
   ]
  },
  {
   "cell_type": "markdown",
   "metadata": {},
   "source": [
    "### Evaluate the Emergency Fund\n",
    "\n",
    "In this section, you’ll use the valuations for the cryptocurrency wallet and for the stock and bond portions of the portfolio to determine if the credit union member has enough savings to build an emergency fund into their financial plan. To do this, complete the following steps:\n",
    "\n",
    "1. Create a Python list named `savings_data` that has two elements. The first element contains the total value of the cryptocurrency wallet. The second element contains the total value of the stock and bond portions of the portfolio.\n",
    "\n",
    "2. Use the `savings_data` list to create a Pandas DataFrame named `savings_df`, and then display this DataFrame. The function to create the DataFrame should take the following three parameters:\n",
    "\n",
    "    - `savings_data`: Use the list that you just created.\n",
    "\n",
    "    - `columns`: Set this parameter equal to a Python list with a single value called `amount`.\n",
    "\n",
    "    - `index`: Set this parameter equal to a Python list with the values of `crypto` and `stock/bond`.\n",
    "\n",
    "3. Use the `savings_df` DataFrame to plot a pie chart that visualizes the composition of the member’s portfolio. The y-axis of the pie chart uses `amount`. Be sure to add a title.\n",
    "\n",
    "4. Using Python, determine if the current portfolio has enough to create an emergency fund as part of the member’s financial plan. Ideally, an emergency fund should equal to three times the member’s monthly income. To do this, implement the following steps:\n",
    "\n",
    "    1. Create a variable named `emergency_fund_value`, and set it equal to three times the value of the member’s `monthly_income` of $12000. (You set this earlier in Part 1).\n",
    "\n",
    "    2. Create a series of three if statements to determine if the member’s total portfolio is large enough to fund the emergency portfolio:\n",
    "\n",
    "        1. If the total portfolio value is greater than the emergency fund value, display a message congratulating the member for having enough money in this fund.\n",
    "\n",
    "        2. Else if the total portfolio value is equal to the emergency fund value, display a message congratulating the member on reaching this important financial goal.\n",
    "\n",
    "        3. Else the total portfolio is less than the emergency fund value, so display a message showing how many dollars away the member is from reaching the goal. (Subtract the total portfolio value from the emergency fund value.)\n"
   ]
  },
  {
   "cell_type": "markdown",
   "metadata": {},
   "source": [
    "#### Step 1: Create a Python list named `savings_data` that has two elements. The first element contains the total value of the cryptocurrency wallet. The second element contains the total value of the stock and bond portions of the portfolio."
   ]
  },
  {
   "cell_type": "code",
   "execution_count": 49,
   "metadata": {},
   "outputs": [
    {
     "name": "stdout",
     "output_type": "stream",
     "text": [
      "[86704.466, 73401.29999999999]\n"
     ]
    }
   ],
   "source": [
    "# Consolidate financial assets data into a Python list\n",
    "savings_data=[total_crypto_wallet,total_stocks_bonds]\n",
    "\n",
    "# Review the Python list savings_data\n",
    "print(savings_data)\n",
    "    "
   ]
  },
  {
   "cell_type": "markdown",
   "metadata": {},
   "source": [
    "#### Step 2: Use the `savings_data` list to create a Pandas DataFrame named `savings_df`, and then display this DataFrame. The function to create the DataFrame should take the following three parameters:\n",
    "\n",
    "- `savings_data`: Use the list that you just created.\n",
    "\n",
    "- `columns`: Set this parameter equal to a Python list with a single value called `amount`.\n",
    "\n",
    "- `index`: Set this parameter equal to a Python list with the values of `crypto` and `stock/bond`.\n"
   ]
  },
  {
   "cell_type": "code",
   "execution_count": 64,
   "metadata": {},
   "outputs": [
    {
     "data": {
      "text/html": [
       "<div>\n",
       "<style scoped>\n",
       "    .dataframe tbody tr th:only-of-type {\n",
       "        vertical-align: middle;\n",
       "    }\n",
       "\n",
       "    .dataframe tbody tr th {\n",
       "        vertical-align: top;\n",
       "    }\n",
       "\n",
       "    .dataframe thead th {\n",
       "        text-align: right;\n",
       "    }\n",
       "</style>\n",
       "<table border=\"1\" class=\"dataframe\">\n",
       "  <thead>\n",
       "    <tr style=\"text-align: right;\">\n",
       "      <th></th>\n",
       "      <th>amount</th>\n",
       "    </tr>\n",
       "  </thead>\n",
       "  <tbody>\n",
       "    <tr>\n",
       "      <th>crypto</th>\n",
       "      <td>86704.466</td>\n",
       "    </tr>\n",
       "    <tr>\n",
       "      <th>stock/bond</th>\n",
       "      <td>73401.300</td>\n",
       "    </tr>\n",
       "  </tbody>\n",
       "</table>\n",
       "</div>"
      ],
      "text/plain": [
       "               amount\n",
       "crypto      86704.466\n",
       "stock/bond  73401.300"
      ]
     },
     "execution_count": 64,
     "metadata": {},
     "output_type": "execute_result"
    }
   ],
   "source": [
    "# Create a Pandas DataFrame called savings_df \n",
    "index_rows=[\"crypto\",\"stock/bond\"]\n",
    "savings_df = pd.DataFrame(savings_data, columns=[\"amount\"], index=index_rows)\n",
    "\n",
    "# Display the savings_df DataFrame\n",
    "savings_df\n"
   ]
  },
  {
   "cell_type": "markdown",
   "metadata": {},
   "source": [
    "#### Step 3: Use the `savings_df` DataFrame to plot a pie chart that visualizes the composition of the member’s portfolio. The y-axis of the pie chart uses `amount`. Be sure to add a title."
   ]
  },
  {
   "cell_type": "code",
   "execution_count": 73,
   "metadata": {},
   "outputs": [
    {
     "data": {
      "text/plain": [
       "array([<AxesSubplot:ylabel='amount'>], dtype=object)"
      ]
     },
     "execution_count": 73,
     "metadata": {},
     "output_type": "execute_result"
    },
    {
     "data": {
      "image/png": "[encoded data removed]",
      "text/plain": [
       "<Figure size 432x288 with 1 Axes>"
      ]
     },
     "metadata": {},
     "output_type": "display_data"
    }
   ],
   "source": [
    "# Plot the total value of the member's portfolio (crypto and stock/bond) in a pie chart\n",
    "\n",
    "savings_df.plot(kind=\"pie\", subplots=True)\n"
   ]
  },
  {
   "cell_type": "markdown",
   "metadata": {},
   "source": [
    "#### Step 4: Using Python, determine if the current portfolio has enough to create an emergency fund as part of the member’s financial plan. Ideally, an emergency fund should equal to three times the member’s monthly income. To do this, implement the following steps:\n",
    "\n",
    "Step 1. Create a variable named `emergency_fund_value`, and set it equal to three times the value of the member’s `monthly_income` of 12000. (You set this earlier in Part 1).\n",
    "\n",
    "Step 2. Create a series of three if statements to determine if the member’s total portfolio is large enough to fund the emergency portfolio:\n",
    "\n",
    "* If the total portfolio value is greater than the emergency fund value, display a message congratulating the member for having enough money in this fund.\n",
    "\n",
    "* Else if the total portfolio value is equal to the emergency fund value, display a message congratulating the member on reaching this important financial goal.\n",
    "\n",
    "* Else the total portfolio is less than the emergency fund value, so display a message showing how many dollars away the member is from reaching the goal. (Subtract the total portfolio value from the emergency fund value.)\n"
   ]
  },
  {
   "cell_type": "markdown",
   "metadata": {},
   "source": [
    "##### Step 4-1: Create a variable named `emergency_fund_value`, and set it equal to three times the value of the member’s `monthly_income` of 12000. (You set this earlier in Part 1)."
   ]
  },
  {
   "cell_type": "code",
   "execution_count": 75,
   "metadata": {},
   "outputs": [],
   "source": [
    "# Create a variable named emergency_fund_value\n",
    "emergency_fund_value=monthly_income*3\n"
   ]
  },
  {
   "cell_type": "markdown",
   "metadata": {},
   "source": [
    "##### Step 4-2: Create a series of three if statements to determine if the member’s total portfolio is large enough to fund the emergency portfolio:\n",
    "\n",
    "* If the total portfolio value is greater than the emergency fund value, display a message congratulating the member for having enough money in this fund.\n",
    "\n",
    "* Else if the total portfolio value is equal to the emergency fund value, display a message congratulating the member on reaching this important financial goal.\n",
    "\n",
    "* Else the total portfolio is less than the emergency fund value, so display a message showing how many dollars away the member is from reaching the goal. (Subtract the total portfolio value from the emergency fund value.)"
   ]
  },
  {
   "cell_type": "code",
   "execution_count": 76,
   "metadata": {},
   "outputs": [
    {
     "name": "stdout",
     "output_type": "stream",
     "text": [
      "Congratulations! You have more than enough money in your emergency fund.\n"
     ]
    }
   ],
   "source": [
    "# Evaluate the possibility of creating an emergency fund with 3 conditions:\n",
    "if total_portfolio>emergency_fund_value:\n",
    "    print(\"Congratulations! You have more than enough money in your emergency fund.\")\n",
    "elif total_portfolio==emergenecy_fund_value :\n",
    "    print(\"Congratulations! You have right about enough money in your emergency fund but a little more would be even nicer! \")\n",
    "else: \n",
    "    print(\"You are \"+{emergency_fund-total_portfolio}+\" away from your emergency fund goal. \")"
   ]
  },
  {
   "cell_type": "markdown",
   "metadata": {},
   "source": [
    "## Part 2: Create a Financial Planner for Retirement"
   ]
  },
  {
   "cell_type": "markdown",
   "metadata": {},
   "source": [
    "### Create the Monte Carlo Simulation\n",
    "\n",
    "In this section, you’ll use the MCForecastTools library to create a Monte Carlo simulation for the member’s savings portfolio. To do this, complete the following steps:\n",
    "\n",
    "1. Make an API call via the Alpaca SDK to get 3 years of historical closing prices for a traditional 60/40 portfolio split: 60% stocks (SPY) and 40% bonds (AGG).\n",
    "\n",
    "2. Run a Monte Carlo simulation of 500 samples and 30 years for the 60/40 portfolio, and then plot the results.The following image shows the overlay line plot resulting from a simulation with these characteristics. However, because a random number generator is used to run each live Monte Carlo simulation, your image will differ slightly from this exact image:\n",
    "\n",
    "![A screenshot depicts the resulting plot.](Images/5-4-monte-carlo-line-plot.png)\n",
    "\n",
    "3. Plot the probability distribution of the Monte Carlo simulation. Plot the probability distribution of the Monte Carlo simulation. The following image shows the histogram plot resulting from a simulation with these characteristics. However, because a random number generator is used to run each live Monte Carlo simulation, your image will differ slightly from this exact image:\n",
    "\n",
    "![A screenshot depicts the histogram plot.](Images/5-4-monte-carlo-histogram.png)\n",
    "\n",
    "4. Generate the summary statistics for the Monte Carlo simulation.\n",
    "\n"
   ]
  },
  {
   "cell_type": "markdown",
   "metadata": {},
   "source": [
    "#### Step 1: Make an API call via the Alpaca SDK to get 3 years of historical closing prices for a traditional 60/40 portfolio split: 60% stocks (SPY) and 40% bonds (AGG)."
   ]
  },
  {
   "cell_type": "code",
   "execution_count": 86,
   "metadata": {},
   "outputs": [
    {
     "name": "stdout",
     "output_type": "stream",
     "text": [
      "2018-11-27 17:54:28.744895\n"
     ]
    }
   ],
   "source": [
    "# Set start and end dates of 3 years back from your current date\n",
    "# Alternatively, you can use an end date of 2020-08-07 and work 3 years back from that date \n",
    "current_date=pd.Timestamp.today()\n",
    "three_yr_before_today= current_date-timedelta(days=1095)\n",
    "print(three_yr_before_today)\n",
    "# Set number of rows to 1000 to retrieve the maximum amount of rows\n",
    "# YOUR CODE HERE"
   ]
  },
  {
   "cell_type": "code",
   "execution_count": 91,
   "metadata": {},
   "outputs": [
    {
     "data": {
      "text/html": [
       "<div>\n",
       "<style scoped>\n",
       "    .dataframe tbody tr th:only-of-type {\n",
       "        vertical-align: middle;\n",
       "    }\n",
       "\n",
       "    .dataframe tbody tr th {\n",
       "        vertical-align: top;\n",
       "    }\n",
       "\n",
       "    .dataframe thead tr th {\n",
       "        text-align: left;\n",
       "    }\n",
       "\n",
       "    .dataframe thead tr:last-of-type th {\n",
       "        text-align: right;\n",
       "    }\n",
       "</style>\n",
       "<table border=\"1\" class=\"dataframe\">\n",
       "  <thead>\n",
       "    <tr>\n",
       "      <th></th>\n",
       "      <th colspan=\"5\" halign=\"left\">AGG</th>\n",
       "      <th colspan=\"5\" halign=\"left\">SPY</th>\n",
       "    </tr>\n",
       "    <tr>\n",
       "      <th></th>\n",
       "      <th>open</th>\n",
       "      <th>high</th>\n",
       "      <th>low</th>\n",
       "      <th>close</th>\n",
       "      <th>volume</th>\n",
       "      <th>open</th>\n",
       "      <th>high</th>\n",
       "      <th>low</th>\n",
       "      <th>close</th>\n",
       "      <th>volume</th>\n",
       "    </tr>\n",
       "    <tr>\n",
       "      <th>time</th>\n",
       "      <th></th>\n",
       "      <th></th>\n",
       "      <th></th>\n",
       "      <th></th>\n",
       "      <th></th>\n",
       "      <th></th>\n",
       "      <th></th>\n",
       "      <th></th>\n",
       "      <th></th>\n",
       "      <th></th>\n",
       "    </tr>\n",
       "  </thead>\n",
       "  <tbody>\n",
       "    <tr>\n",
       "      <th>2017-12-06 00:00:00-05:00</th>\n",
       "      <td>109.42</td>\n",
       "      <td>109.5200</td>\n",
       "      <td>109.3700</td>\n",
       "      <td>109.37</td>\n",
       "      <td>2719857.0</td>\n",
       "      <td>NaN</td>\n",
       "      <td>NaN</td>\n",
       "      <td>NaN</td>\n",
       "      <td>NaN</td>\n",
       "      <td>NaN</td>\n",
       "    </tr>\n",
       "    <tr>\n",
       "      <th>2017-12-07 00:00:00-05:00</th>\n",
       "      <td>109.44</td>\n",
       "      <td>109.4600</td>\n",
       "      <td>109.1536</td>\n",
       "      <td>109.23</td>\n",
       "      <td>2430316.0</td>\n",
       "      <td>263.09</td>\n",
       "      <td>264.430</td>\n",
       "      <td>262.940</td>\n",
       "      <td>264.04</td>\n",
       "      <td>40146879.0</td>\n",
       "    </tr>\n",
       "    <tr>\n",
       "      <th>2017-12-08 00:00:00-05:00</th>\n",
       "      <td>109.21</td>\n",
       "      <td>109.2900</td>\n",
       "      <td>109.1450</td>\n",
       "      <td>109.19</td>\n",
       "      <td>1533143.0</td>\n",
       "      <td>265.01</td>\n",
       "      <td>265.520</td>\n",
       "      <td>264.720</td>\n",
       "      <td>265.49</td>\n",
       "      <td>41139547.0</td>\n",
       "    </tr>\n",
       "    <tr>\n",
       "      <th>2017-12-11 00:00:00-05:00</th>\n",
       "      <td>109.29</td>\n",
       "      <td>109.3200</td>\n",
       "      <td>109.1300</td>\n",
       "      <td>109.13</td>\n",
       "      <td>2475019.0</td>\n",
       "      <td>265.57</td>\n",
       "      <td>266.380</td>\n",
       "      <td>265.490</td>\n",
       "      <td>266.34</td>\n",
       "      <td>38104278.0</td>\n",
       "    </tr>\n",
       "    <tr>\n",
       "      <th>2017-12-12 00:00:00-05:00</th>\n",
       "      <td>109.07</td>\n",
       "      <td>109.1100</td>\n",
       "      <td>108.9500</td>\n",
       "      <td>109.10</td>\n",
       "      <td>2839614.0</td>\n",
       "      <td>266.59</td>\n",
       "      <td>267.320</td>\n",
       "      <td>266.345</td>\n",
       "      <td>266.79</td>\n",
       "      <td>46482549.0</td>\n",
       "    </tr>\n",
       "    <tr>\n",
       "      <th>...</th>\n",
       "      <td>...</td>\n",
       "      <td>...</td>\n",
       "      <td>...</td>\n",
       "      <td>...</td>\n",
       "      <td>...</td>\n",
       "      <td>...</td>\n",
       "      <td>...</td>\n",
       "      <td>...</td>\n",
       "      <td>...</td>\n",
       "      <td>...</td>\n",
       "    </tr>\n",
       "    <tr>\n",
       "      <th>2021-11-19 00:00:00-05:00</th>\n",
       "      <td>114.49</td>\n",
       "      <td>114.5900</td>\n",
       "      <td>114.4150</td>\n",
       "      <td>114.45</td>\n",
       "      <td>4843203.0</td>\n",
       "      <td>469.61</td>\n",
       "      <td>470.940</td>\n",
       "      <td>468.500</td>\n",
       "      <td>468.91</td>\n",
       "      <td>49009452.0</td>\n",
       "    </tr>\n",
       "    <tr>\n",
       "      <th>2021-11-22 00:00:00-05:00</th>\n",
       "      <td>114.14</td>\n",
       "      <td>114.2300</td>\n",
       "      <td>113.8200</td>\n",
       "      <td>113.88</td>\n",
       "      <td>6216218.0</td>\n",
       "      <td>470.81</td>\n",
       "      <td>473.540</td>\n",
       "      <td>467.350</td>\n",
       "      <td>467.53</td>\n",
       "      <td>61497941.0</td>\n",
       "    </tr>\n",
       "    <tr>\n",
       "      <th>2021-11-23 00:00:00-05:00</th>\n",
       "      <td>113.71</td>\n",
       "      <td>113.7700</td>\n",
       "      <td>113.4500</td>\n",
       "      <td>113.45</td>\n",
       "      <td>5835080.0</td>\n",
       "      <td>467.22</td>\n",
       "      <td>469.095</td>\n",
       "      <td>464.450</td>\n",
       "      <td>468.25</td>\n",
       "      <td>62851184.0</td>\n",
       "    </tr>\n",
       "    <tr>\n",
       "      <th>2021-11-24 00:00:00-05:00</th>\n",
       "      <td>113.47</td>\n",
       "      <td>113.7250</td>\n",
       "      <td>113.3905</td>\n",
       "      <td>113.72</td>\n",
       "      <td>5959367.0</td>\n",
       "      <td>466.06</td>\n",
       "      <td>469.570</td>\n",
       "      <td>465.190</td>\n",
       "      <td>469.37</td>\n",
       "      <td>54274217.0</td>\n",
       "    </tr>\n",
       "    <tr>\n",
       "      <th>2021-11-26 00:00:00-05:00</th>\n",
       "      <td>114.28</td>\n",
       "      <td>114.5769</td>\n",
       "      <td>114.2000</td>\n",
       "      <td>114.54</td>\n",
       "      <td>2886169.0</td>\n",
       "      <td>462.38</td>\n",
       "      <td>463.900</td>\n",
       "      <td>457.770</td>\n",
       "      <td>459.03</td>\n",
       "      <td>93783057.0</td>\n",
       "    </tr>\n",
       "  </tbody>\n",
       "</table>\n",
       "<p>1001 rows × 10 columns</p>\n",
       "</div>"
      ],
      "text/plain": [
       "                              AGG                                         \\\n",
       "                             open      high       low   close     volume   \n",
       "time                                                                       \n",
       "2017-12-06 00:00:00-05:00  109.42  109.5200  109.3700  109.37  2719857.0   \n",
       "2017-12-07 00:00:00-05:00  109.44  109.4600  109.1536  109.23  2430316.0   \n",
       "2017-12-08 00:00:00-05:00  109.21  109.2900  109.1450  109.19  1533143.0   \n",
       "2017-12-11 00:00:00-05:00  109.29  109.3200  109.1300  109.13  2475019.0   \n",
       "2017-12-12 00:00:00-05:00  109.07  109.1100  108.9500  109.10  2839614.0   \n",
       "...                           ...       ...       ...     ...        ...   \n",
       "2021-11-19 00:00:00-05:00  114.49  114.5900  114.4150  114.45  4843203.0   \n",
       "2021-11-22 00:00:00-05:00  114.14  114.2300  113.8200  113.88  6216218.0   \n",
       "2021-11-23 00:00:00-05:00  113.71  113.7700  113.4500  113.45  5835080.0   \n",
       "2021-11-24 00:00:00-05:00  113.47  113.7250  113.3905  113.72  5959367.0   \n",
       "2021-11-26 00:00:00-05:00  114.28  114.5769  114.2000  114.54  2886169.0   \n",
       "\n",
       "                              SPY                                        \n",
       "                             open     high      low   close      volume  \n",
       "time                                                                     \n",
       "2017-12-06 00:00:00-05:00     NaN      NaN      NaN     NaN         NaN  \n",
       "2017-12-07 00:00:00-05:00  263.09  264.430  262.940  264.04  40146879.0  \n",
       "2017-12-08 00:00:00-05:00  265.01  265.520  264.720  265.49  41139547.0  \n",
       "2017-12-11 00:00:00-05:00  265.57  266.380  265.490  266.34  38104278.0  \n",
       "2017-12-12 00:00:00-05:00  266.59  267.320  266.345  266.79  46482549.0  \n",
       "...                           ...      ...      ...     ...         ...  \n",
       "2021-11-19 00:00:00-05:00  469.61  470.940  468.500  468.91  49009452.0  \n",
       "2021-11-22 00:00:00-05:00  470.81  473.540  467.350  467.53  61497941.0  \n",
       "2021-11-23 00:00:00-05:00  467.22  469.095  464.450  468.25  62851184.0  \n",
       "2021-11-24 00:00:00-05:00  466.06  469.570  465.190  469.37  54274217.0  \n",
       "2021-11-26 00:00:00-05:00  462.38  463.900  457.770  459.03  93783057.0  \n",
       "\n",
       "[1001 rows x 10 columns]"
      ]
     },
     "execution_count": 91,
     "metadata": {},
     "output_type": "execute_result"
    }
   ],
   "source": [
    "# Use the Alpaca get_barset function to make the API call to get the 3 years worth of pricing data\n",
    "# The tickers and timeframe parameters should have been set in Part 1 of this activity \n",
    "# The start and end dates should be updated with the information set above\n",
    "# Remember to add the df property to the end of the call so the response is returned as a DataFrame\n",
    "three_yr_data= alpaca.get_barset(tickers,timeframe,start=current_date.isoformat(),end=three_yr_before_today.isoformat(),limit=1000).df\n",
    "\n",
    "\n",
    "# Display both the first and last five rows of the DataFrame\n",
    "three_yr_data \n",
    " \n"
   ]
  },
  {
   "cell_type": "markdown",
   "metadata": {},
   "source": [
    "#### Step 2: Run a Monte Carlo simulation of 500 samples and 30 years for the 60/40 portfolio, and then plot the results."
   ]
  },
  {
   "cell_type": "code",
   "execution_count": 92,
   "metadata": {},
   "outputs": [],
   "source": [
    "# Configure the Monte Carlo simulation to forecast 30 years cumulative returns\n",
    "# The weights should be split 40% to AGG and 60% to SPY. FE: Create a list in the order it shows in the dataframe. \n",
    "# Run 500 samples.\n",
    "weights=[.40, .60]\n",
    "num_run=500\n",
    "num_trading_days=252*30\n",
    "# Review the simulation input data\n",
    "# YOUR CODE HERE\n"
   ]
  },
  {
   "cell_type": "code",
   "execution_count": 100,
   "metadata": {},
   "outputs": [
    {
     "name": "stdout",
     "output_type": "stream",
     "text": [
      "Running Monte Carlo simulation number 0.\n",
      "Running Monte Carlo simulation number 10.\n",
      "Running Monte Carlo simulation number 20.\n",
      "Running Monte Carlo simulation number 30.\n",
      "Running Monte Carlo simulation number 40.\n",
      "Running Monte Carlo simulation number 50.\n",
      "Running Monte Carlo simulation number 60.\n",
      "Running Monte Carlo simulation number 70.\n",
      "Running Monte Carlo simulation number 80.\n",
      "Running Monte Carlo simulation number 90.\n",
      "Running Monte Carlo simulation number 100.\n"
     ]
    },
    {
     "name": "stderr",
     "output_type": "stream",
     "text": [
      "/Users/fatihezgin/Desktop/Week5-Challange/MCForecastTools.py:117: PerformanceWarning: DataFrame is highly fragmented.  This is usually the result of calling `frame.insert` many times, which has poor performance.  Consider joining all columns at once using pd.concat(axis=1) instead.  To get a de-fragmented frame, use `newframe = frame.copy()`\n",
      "  portfolio_cumulative_returns[n] = (1 + sim_df.fillna(0)).cumprod()\n"
     ]
    },
    {
     "name": "stdout",
     "output_type": "stream",
     "text": [
      "Running Monte Carlo simulation number 110.\n",
      "Running Monte Carlo simulation number 120.\n",
      "Running Monte Carlo simulation number 130.\n",
      "Running Monte Carlo simulation number 140.\n",
      "Running Monte Carlo simulation number 150.\n",
      "Running Monte Carlo simulation number 160.\n",
      "Running Monte Carlo simulation number 170.\n",
      "Running Monte Carlo simulation number 180.\n",
      "Running Monte Carlo simulation number 190.\n",
      "Running Monte Carlo simulation number 200.\n",
      "Running Monte Carlo simulation number 210.\n",
      "Running Monte Carlo simulation number 220.\n",
      "Running Monte Carlo simulation number 230.\n",
      "Running Monte Carlo simulation number 240.\n",
      "Running Monte Carlo simulation number 250.\n",
      "Running Monte Carlo simulation number 260.\n",
      "Running Monte Carlo simulation number 270.\n",
      "Running Monte Carlo simulation number 280.\n",
      "Running Monte Carlo simulation number 290.\n",
      "Running Monte Carlo simulation number 300.\n",
      "Running Monte Carlo simulation number 310.\n",
      "Running Monte Carlo simulation number 320.\n",
      "Running Monte Carlo simulation number 330.\n",
      "Running Monte Carlo simulation number 340.\n",
      "Running Monte Carlo simulation number 350.\n",
      "Running Monte Carlo simulation number 360.\n",
      "Running Monte Carlo simulation number 370.\n",
      "Running Monte Carlo simulation number 380.\n",
      "Running Monte Carlo simulation number 390.\n",
      "Running Monte Carlo simulation number 400.\n",
      "Running Monte Carlo simulation number 410.\n",
      "Running Monte Carlo simulation number 420.\n",
      "Running Monte Carlo simulation number 430.\n",
      "Running Monte Carlo simulation number 440.\n",
      "Running Monte Carlo simulation number 450.\n",
      "Running Monte Carlo simulation number 460.\n",
      "Running Monte Carlo simulation number 470.\n",
      "Running Monte Carlo simulation number 480.\n",
      "Running Monte Carlo simulation number 490.\n"
     ]
    },
    {
     "data": {
      "text/html": [
       "<div>\n",
       "<style scoped>\n",
       "    .dataframe tbody tr th:only-of-type {\n",
       "        vertical-align: middle;\n",
       "    }\n",
       "\n",
       "    .dataframe tbody tr th {\n",
       "        vertical-align: top;\n",
       "    }\n",
       "\n",
       "    .dataframe thead th {\n",
       "        text-align: right;\n",
       "    }\n",
       "</style>\n",
       "<table border=\"1\" class=\"dataframe\">\n",
       "  <thead>\n",
       "    <tr style=\"text-align: right;\">\n",
       "      <th></th>\n",
       "      <th>0</th>\n",
       "      <th>1</th>\n",
       "      <th>2</th>\n",
       "      <th>3</th>\n",
       "      <th>4</th>\n",
       "      <th>5</th>\n",
       "      <th>6</th>\n",
       "      <th>7</th>\n",
       "      <th>8</th>\n",
       "      <th>9</th>\n",
       "      <th>...</th>\n",
       "      <th>490</th>\n",
       "      <th>491</th>\n",
       "      <th>492</th>\n",
       "      <th>493</th>\n",
       "      <th>494</th>\n",
       "      <th>495</th>\n",
       "      <th>496</th>\n",
       "      <th>497</th>\n",
       "      <th>498</th>\n",
       "      <th>499</th>\n",
       "    </tr>\n",
       "  </thead>\n",
       "  <tbody>\n",
       "    <tr>\n",
       "      <th>0</th>\n",
       "      <td>1.000000</td>\n",
       "      <td>1.000000</td>\n",
       "      <td>1.000000</td>\n",
       "      <td>1.000000</td>\n",
       "      <td>1.000000</td>\n",
       "      <td>1.000000</td>\n",
       "      <td>1.000000</td>\n",
       "      <td>1.000000</td>\n",
       "      <td>1.000000</td>\n",
       "      <td>1.000000</td>\n",
       "      <td>...</td>\n",
       "      <td>1.000000</td>\n",
       "      <td>1.000000</td>\n",
       "      <td>1.000000</td>\n",
       "      <td>1.000000</td>\n",
       "      <td>1.000000</td>\n",
       "      <td>1.000000</td>\n",
       "      <td>1.000000</td>\n",
       "      <td>1.000000</td>\n",
       "      <td>1.000000</td>\n",
       "      <td>1.000000</td>\n",
       "    </tr>\n",
       "    <tr>\n",
       "      <th>1</th>\n",
       "      <td>1.009618</td>\n",
       "      <td>1.011096</td>\n",
       "      <td>0.992450</td>\n",
       "      <td>0.999484</td>\n",
       "      <td>0.987221</td>\n",
       "      <td>1.005836</td>\n",
       "      <td>1.006201</td>\n",
       "      <td>1.003189</td>\n",
       "      <td>1.011745</td>\n",
       "      <td>1.014286</td>\n",
       "      <td>...</td>\n",
       "      <td>0.998680</td>\n",
       "      <td>1.000449</td>\n",
       "      <td>1.012940</td>\n",
       "      <td>1.002230</td>\n",
       "      <td>0.997535</td>\n",
       "      <td>1.006270</td>\n",
       "      <td>0.984319</td>\n",
       "      <td>1.001357</td>\n",
       "      <td>1.005409</td>\n",
       "      <td>1.007614</td>\n",
       "    </tr>\n",
       "    <tr>\n",
       "      <th>2</th>\n",
       "      <td>1.009622</td>\n",
       "      <td>1.017766</td>\n",
       "      <td>0.998428</td>\n",
       "      <td>1.010376</td>\n",
       "      <td>0.983428</td>\n",
       "      <td>1.009862</td>\n",
       "      <td>1.004674</td>\n",
       "      <td>0.989137</td>\n",
       "      <td>1.011006</td>\n",
       "      <td>1.019437</td>\n",
       "      <td>...</td>\n",
       "      <td>1.007377</td>\n",
       "      <td>1.007840</td>\n",
       "      <td>1.012669</td>\n",
       "      <td>1.003872</td>\n",
       "      <td>0.998966</td>\n",
       "      <td>1.007542</td>\n",
       "      <td>0.984773</td>\n",
       "      <td>1.009062</td>\n",
       "      <td>1.015774</td>\n",
       "      <td>1.005396</td>\n",
       "    </tr>\n",
       "    <tr>\n",
       "      <th>3</th>\n",
       "      <td>1.025037</td>\n",
       "      <td>1.005294</td>\n",
       "      <td>0.999710</td>\n",
       "      <td>1.005002</td>\n",
       "      <td>0.992134</td>\n",
       "      <td>1.005728</td>\n",
       "      <td>0.988877</td>\n",
       "      <td>0.991057</td>\n",
       "      <td>1.008635</td>\n",
       "      <td>1.017776</td>\n",
       "      <td>...</td>\n",
       "      <td>1.010102</td>\n",
       "      <td>1.012308</td>\n",
       "      <td>1.018911</td>\n",
       "      <td>0.990221</td>\n",
       "      <td>0.999836</td>\n",
       "      <td>0.998881</td>\n",
       "      <td>0.976652</td>\n",
       "      <td>1.001062</td>\n",
       "      <td>1.004084</td>\n",
       "      <td>1.014821</td>\n",
       "    </tr>\n",
       "    <tr>\n",
       "      <th>4</th>\n",
       "      <td>1.015729</td>\n",
       "      <td>1.003072</td>\n",
       "      <td>0.997527</td>\n",
       "      <td>1.012206</td>\n",
       "      <td>1.002825</td>\n",
       "      <td>1.003240</td>\n",
       "      <td>0.988370</td>\n",
       "      <td>0.998204</td>\n",
       "      <td>1.010998</td>\n",
       "      <td>1.019886</td>\n",
       "      <td>...</td>\n",
       "      <td>1.013185</td>\n",
       "      <td>1.008365</td>\n",
       "      <td>1.019181</td>\n",
       "      <td>0.986252</td>\n",
       "      <td>1.000697</td>\n",
       "      <td>1.001438</td>\n",
       "      <td>0.982808</td>\n",
       "      <td>1.010288</td>\n",
       "      <td>0.998464</td>\n",
       "      <td>1.012992</td>\n",
       "    </tr>\n",
       "    <tr>\n",
       "      <th>...</th>\n",
       "      <td>...</td>\n",
       "      <td>...</td>\n",
       "      <td>...</td>\n",
       "      <td>...</td>\n",
       "      <td>...</td>\n",
       "      <td>...</td>\n",
       "      <td>...</td>\n",
       "      <td>...</td>\n",
       "      <td>...</td>\n",
       "      <td>...</td>\n",
       "      <td>...</td>\n",
       "      <td>...</td>\n",
       "      <td>...</td>\n",
       "      <td>...</td>\n",
       "      <td>...</td>\n",
       "      <td>...</td>\n",
       "      <td>...</td>\n",
       "      <td>...</td>\n",
       "      <td>...</td>\n",
       "      <td>...</td>\n",
       "      <td>...</td>\n",
       "    </tr>\n",
       "    <tr>\n",
       "      <th>7556</th>\n",
       "      <td>20.143744</td>\n",
       "      <td>10.784818</td>\n",
       "      <td>28.603565</td>\n",
       "      <td>8.109845</td>\n",
       "      <td>3.036467</td>\n",
       "      <td>33.834187</td>\n",
       "      <td>21.442639</td>\n",
       "      <td>4.061430</td>\n",
       "      <td>16.819412</td>\n",
       "      <td>13.264754</td>\n",
       "      <td>...</td>\n",
       "      <td>26.462750</td>\n",
       "      <td>15.121901</td>\n",
       "      <td>18.107126</td>\n",
       "      <td>6.873478</td>\n",
       "      <td>16.862124</td>\n",
       "      <td>53.903317</td>\n",
       "      <td>9.206489</td>\n",
       "      <td>8.360236</td>\n",
       "      <td>28.721986</td>\n",
       "      <td>53.078504</td>\n",
       "    </tr>\n",
       "    <tr>\n",
       "      <th>7557</th>\n",
       "      <td>20.112492</td>\n",
       "      <td>10.823793</td>\n",
       "      <td>28.617088</td>\n",
       "      <td>8.128576</td>\n",
       "      <td>3.031282</td>\n",
       "      <td>34.078205</td>\n",
       "      <td>21.630347</td>\n",
       "      <td>4.042088</td>\n",
       "      <td>17.095723</td>\n",
       "      <td>13.351808</td>\n",
       "      <td>...</td>\n",
       "      <td>26.537821</td>\n",
       "      <td>15.262875</td>\n",
       "      <td>18.104898</td>\n",
       "      <td>6.984620</td>\n",
       "      <td>16.730054</td>\n",
       "      <td>53.859725</td>\n",
       "      <td>9.205533</td>\n",
       "      <td>8.366435</td>\n",
       "      <td>28.874829</td>\n",
       "      <td>53.616650</td>\n",
       "    </tr>\n",
       "    <tr>\n",
       "      <th>7558</th>\n",
       "      <td>20.135623</td>\n",
       "      <td>10.749712</td>\n",
       "      <td>28.823179</td>\n",
       "      <td>8.287786</td>\n",
       "      <td>3.020043</td>\n",
       "      <td>33.380198</td>\n",
       "      <td>21.671147</td>\n",
       "      <td>4.038444</td>\n",
       "      <td>17.013241</td>\n",
       "      <td>13.443080</td>\n",
       "      <td>...</td>\n",
       "      <td>26.536247</td>\n",
       "      <td>15.290965</td>\n",
       "      <td>18.125478</td>\n",
       "      <td>6.972977</td>\n",
       "      <td>16.468009</td>\n",
       "      <td>53.884776</td>\n",
       "      <td>9.221333</td>\n",
       "      <td>8.362769</td>\n",
       "      <td>28.910300</td>\n",
       "      <td>53.736578</td>\n",
       "    </tr>\n",
       "    <tr>\n",
       "      <th>7559</th>\n",
       "      <td>20.093371</td>\n",
       "      <td>10.830304</td>\n",
       "      <td>29.036200</td>\n",
       "      <td>8.345969</td>\n",
       "      <td>2.997745</td>\n",
       "      <td>33.107503</td>\n",
       "      <td>21.681086</td>\n",
       "      <td>4.049848</td>\n",
       "      <td>16.871558</td>\n",
       "      <td>13.422026</td>\n",
       "      <td>...</td>\n",
       "      <td>26.431709</td>\n",
       "      <td>15.411514</td>\n",
       "      <td>18.061236</td>\n",
       "      <td>6.996413</td>\n",
       "      <td>16.602555</td>\n",
       "      <td>53.735491</td>\n",
       "      <td>9.139859</td>\n",
       "      <td>8.421301</td>\n",
       "      <td>29.013614</td>\n",
       "      <td>53.772973</td>\n",
       "    </tr>\n",
       "    <tr>\n",
       "      <th>7560</th>\n",
       "      <td>20.079730</td>\n",
       "      <td>10.783033</td>\n",
       "      <td>29.128961</td>\n",
       "      <td>8.317585</td>\n",
       "      <td>2.980732</td>\n",
       "      <td>33.169641</td>\n",
       "      <td>21.690023</td>\n",
       "      <td>4.089645</td>\n",
       "      <td>16.684848</td>\n",
       "      <td>13.316839</td>\n",
       "      <td>...</td>\n",
       "      <td>26.241750</td>\n",
       "      <td>15.306427</td>\n",
       "      <td>18.031828</td>\n",
       "      <td>7.074109</td>\n",
       "      <td>16.472903</td>\n",
       "      <td>54.066229</td>\n",
       "      <td>9.168135</td>\n",
       "      <td>8.349858</td>\n",
       "      <td>28.633439</td>\n",
       "      <td>53.556900</td>\n",
       "    </tr>\n",
       "  </tbody>\n",
       "</table>\n",
       "<p>7561 rows × 500 columns</p>\n",
       "</div>"
      ],
      "text/plain": [
       "            0          1          2         3         4          5    \\\n",
       "0      1.000000   1.000000   1.000000  1.000000  1.000000   1.000000   \n",
       "1      1.009618   1.011096   0.992450  0.999484  0.987221   1.005836   \n",
       "2      1.009622   1.017766   0.998428  1.010376  0.983428   1.009862   \n",
       "3      1.025037   1.005294   0.999710  1.005002  0.992134   1.005728   \n",
       "4      1.015729   1.003072   0.997527  1.012206  1.002825   1.003240   \n",
       "...         ...        ...        ...       ...       ...        ...   \n",
       "7556  20.143744  10.784818  28.603565  8.109845  3.036467  33.834187   \n",
       "7557  20.112492  10.823793  28.617088  8.128576  3.031282  34.078205   \n",
       "7558  20.135623  10.749712  28.823179  8.287786  3.020043  33.380198   \n",
       "7559  20.093371  10.830304  29.036200  8.345969  2.997745  33.107503   \n",
       "7560  20.079730  10.783033  29.128961  8.317585  2.980732  33.169641   \n",
       "\n",
       "            6         7          8          9    ...        490        491  \\\n",
       "0      1.000000  1.000000   1.000000   1.000000  ...   1.000000   1.000000   \n",
       "1      1.006201  1.003189   1.011745   1.014286  ...   0.998680   1.000449   \n",
       "2      1.004674  0.989137   1.011006   1.019437  ...   1.007377   1.007840   \n",
       "3      0.988877  0.991057   1.008635   1.017776  ...   1.010102   1.012308   \n",
       "4      0.988370  0.998204   1.010998   1.019886  ...   1.013185   1.008365   \n",
       "...         ...       ...        ...        ...  ...        ...        ...   \n",
       "7556  21.442639  4.061430  16.819412  13.264754  ...  26.462750  15.121901   \n",
       "7557  21.630347  4.042088  17.095723  13.351808  ...  26.537821  15.262875   \n",
       "7558  21.671147  4.038444  17.013241  13.443080  ...  26.536247  15.290965   \n",
       "7559  21.681086  4.049848  16.871558  13.422026  ...  26.431709  15.411514   \n",
       "7560  21.690023  4.089645  16.684848  13.316839  ...  26.241750  15.306427   \n",
       "\n",
       "            492       493        494        495       496       497  \\\n",
       "0      1.000000  1.000000   1.000000   1.000000  1.000000  1.000000   \n",
       "1      1.012940  1.002230   0.997535   1.006270  0.984319  1.001357   \n",
       "2      1.012669  1.003872   0.998966   1.007542  0.984773  1.009062   \n",
       "3      1.018911  0.990221   0.999836   0.998881  0.976652  1.001062   \n",
       "4      1.019181  0.986252   1.000697   1.001438  0.982808  1.010288   \n",
       "...         ...       ...        ...        ...       ...       ...   \n",
       "7556  18.107126  6.873478  16.862124  53.903317  9.206489  8.360236   \n",
       "7557  18.104898  6.984620  16.730054  53.859725  9.205533  8.366435   \n",
       "7558  18.125478  6.972977  16.468009  53.884776  9.221333  8.362769   \n",
       "7559  18.061236  6.996413  16.602555  53.735491  9.139859  8.421301   \n",
       "7560  18.031828  7.074109  16.472903  54.066229  9.168135  8.349858   \n",
       "\n",
       "            498        499  \n",
       "0      1.000000   1.000000  \n",
       "1      1.005409   1.007614  \n",
       "2      1.015774   1.005396  \n",
       "3      1.004084   1.014821  \n",
       "4      0.998464   1.012992  \n",
       "...         ...        ...  \n",
       "7556  28.721986  53.078504  \n",
       "7557  28.874829  53.616650  \n",
       "7558  28.910300  53.736578  \n",
       "7559  29.013614  53.772973  \n",
       "7560  28.633439  53.556900  \n",
       "\n",
       "[7561 rows x 500 columns]"
      ]
     },
     "execution_count": 100,
     "metadata": {},
     "output_type": "execute_result"
    }
   ],
   "source": [
    "# Run the Monte Carlo simulation to forecast 30 years cumulative returns\n",
    "MC_thirty_year=MCSimulation(portfolio_data=three_yr_data, weights=weights, num_simulation=num_run, num_trading_days=num_trading_days) \n",
    "MC_thirty_year.portfolio_data.dropna().copy()\n",
    "MC_thirty_year.calc_cumulative_return()"
   ]
  },
  {
   "cell_type": "code",
   "execution_count": 103,
   "metadata": {},
   "outputs": [
    {
     "data": {
      "image/png": "[encoded data removed]",
      "text/plain": [
       "<Figure size 432x288 with 1 Axes>"
      ]
     },
     "metadata": {
      "needs_background": "light"
     },
     "output_type": "display_data"
    }
   ],
   "source": [
    "# Visualize the 30-year Monte Carlo simulation by creating an\n",
    "# overlay line plot\n",
    "MC_sim_line_plot=MC_thirty_year.plot_simulation()\n",
    "MC_sim_line_plot.get_figure().savefig(\"MC_thirty_sim_plot.png\", bbox_inches=\"tight\")\n"
   ]
  },
  {
   "cell_type": "markdown",
   "metadata": {},
   "source": [
    "#### Step 3: Plot the probability distribution of the Monte Carlo simulation."
   ]
  },
  {
   "cell_type": "code",
   "execution_count": 105,
   "metadata": {},
   "outputs": [
    {
     "data": {
      "image/png": "[encoded data removed]",
      "text/plain": [
       "<Figure size 432x288 with 1 Axes>"
      ]
     },
     "metadata": {
      "needs_background": "light"
     },
     "output_type": "display_data"
    }
   ],
   "source": [
    "# Visualize the probability distribution of the 30-year Monte Carlo simulation \n",
    "# by plotting a histogram\n",
    "MC_sim_dist_plot=MC_thirty_year.plot_distribution()\n"
   ]
  },
  {
   "cell_type": "markdown",
   "metadata": {},
   "source": [
    "#### Step 4: Generate the summary statistics for the Monte Carlo simulation."
   ]
  },
  {
   "cell_type": "code",
   "execution_count": null,
   "metadata": {},
   "outputs": [],
   "source": [
    "# Generate summary statistics from the 30-year Monte Carlo simulation results\n",
    "# Save the results as a variable\n",
    "# YOUR CODE HERE\n",
    "\n",
    "\n",
    "# Review the 30-year Monte Carlo summary statistics\n",
    "# YOUR CODE HERE"
   ]
  },
  {
   "cell_type": "markdown",
   "metadata": {},
   "source": [
    "### Analyze the Retirement Portfolio Forecasts\n",
    "\n",
    "Using the current value of only the stock and bond portion of the member's portfolio and the summary statistics that you generated from the Monte Carlo simulation, answer the following question in your Jupyter notebook:\n",
    "\n",
    "-  What are the lower and upper bounds for the expected value of the portfolio with a 95% confidence interval?\n"
   ]
  },
  {
   "cell_type": "code",
   "execution_count": null,
   "metadata": {},
   "outputs": [],
   "source": [
    "# Print the current balance of the stock and bond portion of the members portfolio\n",
    "# YOUR CODE HERE\n"
   ]
  },
  {
   "cell_type": "code",
   "execution_count": null,
   "metadata": {},
   "outputs": [],
   "source": [
    "# Use the lower and upper `95%` confidence intervals to calculate the range of the possible outcomes for the current stock/bond portfolio\n",
    "ci_lower_thirty_cumulative_return = # YOUR CODE HERE\n",
    "ci_upper_thirty_cumulative_return = # YOUR CODE HERE\n",
    "\n",
    "# Print the result of your calculations\n",
    "# YOUR CODE HERE\n"
   ]
  },
  {
   "cell_type": "markdown",
   "metadata": {},
   "source": [
    "### Forecast Cumulative Returns in 10 Years\n",
    "\n",
    "The CTO of the credit union is impressed with your work on these planning tools but wonders if 30 years is a long time to wait until retirement. So, your next task is to adjust the retirement portfolio and run a new Monte Carlo simulation to find out if the changes will allow members to retire earlier.\n",
    "\n",
    "For this new Monte Carlo simulation, do the following: \n",
    "\n",
    "- Forecast the cumulative returns for 10 years from now. Because of the shortened investment horizon (30 years to 10 years), the portfolio needs to invest more heavily in the riskier asset&mdash;that is, stock&mdash;to help accumulate wealth for retirement. \n",
    "\n",
    "- Adjust the weights of the retirement portfolio so that the composition for the Monte Carlo simulation consists of 20% bonds and 80% stocks. \n",
    "\n",
    "- Run the simulation over 500 samples, and use the same data that the API call to Alpaca generated.\n",
    "\n",
    "- Based on the new Monte Carlo simulation, answer the following questions in your Jupyter notebook:\n",
    "\n",
    "    - Using the current value of only the stock and bond portion of the member's portfolio and the summary statistics that you generated from the new Monte Carlo simulation, what are the lower and upper bounds for the expected value of the portfolio (with the new weights) with a 95% confidence interval?\n",
    "\n",
    "    - Will weighting the portfolio more heavily toward stocks allow the credit union members to retire after only 10 years?\n"
   ]
  },
  {
   "cell_type": "code",
   "execution_count": null,
   "metadata": {},
   "outputs": [],
   "source": [
    "# Configure a Monte Carlo simulation to forecast 10 years cumulative returns\n",
    "# The weights should be split 20% to AGG and 80% to SPY.\n",
    "# Run 500 samples.\n",
    "# YOUR CODE HERE\n",
    "\n",
    "# Review the simulation input data\n",
    "# YOUR CODE HERE\n"
   ]
  },
  {
   "cell_type": "code",
   "execution_count": null,
   "metadata": {},
   "outputs": [],
   "source": [
    "# Run the Monte Carlo simulation to forecast 10 years cumulative returns\n",
    "# YOUR CODE HERE\n"
   ]
  },
  {
   "cell_type": "code",
   "execution_count": null,
   "metadata": {},
   "outputs": [],
   "source": [
    "# Visualize the 10-year Monte Carlo simulation by creating an\n",
    "# overlay line plot\n",
    "# YOUR CODE HERE\n"
   ]
  },
  {
   "cell_type": "code",
   "execution_count": null,
   "metadata": {},
   "outputs": [],
   "source": [
    "# Visualize the probability distribution of the 10-year Monte Carlo simulation \n",
    "# by plotting a histogram\n",
    "# YOUR CODE HERE\n"
   ]
  },
  {
   "cell_type": "code",
   "execution_count": null,
   "metadata": {},
   "outputs": [],
   "source": [
    "# Generate summary statistics from the 10-year Monte Carlo simulation results\n",
    "# Save the results as a variable\n",
    "# YOUR CODE HERE\n",
    "\n",
    "\n",
    "# Review the 10-year Monte Carlo summary statistics\n",
    "# YOUR CODE HERE"
   ]
  },
  {
   "cell_type": "markdown",
   "metadata": {},
   "source": [
    "### Answer the following questions:"
   ]
  },
  {
   "cell_type": "markdown",
   "metadata": {},
   "source": [
    "#### Question: Using the current value of only the stock and bond portion of the member's portfolio and the summary statistics that you generated from the new Monte Carlo simulation, what are the lower and upper bounds for the expected value of the portfolio (with the new weights) with a 95% confidence interval?"
   ]
  },
  {
   "cell_type": "code",
   "execution_count": null,
   "metadata": {},
   "outputs": [],
   "source": [
    "# Print the current balance of the stock and bond portion of the members portfolio\n",
    "# YOUR CODE HERE\n"
   ]
  },
  {
   "cell_type": "code",
   "execution_count": null,
   "metadata": {},
   "outputs": [],
   "source": [
    "# Use the lower and upper `95%` confidence intervals to calculate the range of the possible outcomes for the current stock/bond portfolio\n",
    "ci_lower_ten_cumulative_return = # YOUR CODE HERE\n",
    "ci_upper_ten_cumulative_return = # YOUR CODE HERE\n",
    "\n",
    "# Print the result of your calculations\n",
    "# YOUR CODE HERE\n"
   ]
  },
  {
   "cell_type": "markdown",
   "metadata": {},
   "source": [
    "#### Question: Will weighting the portfolio more heavily to stocks allow the credit union members to retire after only 10 years?"
   ]
  },
  {
   "cell_type": "raw",
   "metadata": {},
   "source": [
    "**Answer** # YOUR ANSWER HERE"
   ]
  },
  {
   "cell_type": "code",
   "execution_count": null,
   "metadata": {},
   "outputs": [],
   "source": []
  },
  {
   "cell_type": "code",
   "execution_count": null,
   "metadata": {},
   "outputs": [],
   "source": []
  }
 ],
 "metadata": {
  "kernelspec": {
   "display_name": "Python 3 (ipykernel)",
   "language": "python",
   "name": "python3"
  },
  "language_info": {
   "codemirror_mode": {
    "name": "ipython",
    "version": 3
   },
   "file_extension": ".py",
   "mimetype": "text/x-python",
   "name": "python",
   "nbconvert_exporter": "python",
   "pygments_lexer": "ipython3",
   "version": "3.8.12"
  }
 },
 "nbformat": 4,
 "nbformat_minor": 4
}
