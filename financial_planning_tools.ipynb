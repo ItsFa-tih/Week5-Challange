{
 "cells": [
  {
   "cell_type": "markdown",
   "metadata": {},
   "source": [
    "# Financial Planning with APIs and Simulations\n",
    "\n",
    "In this Challenge, you’ll create two financial analysis tools by using a single Jupyter notebook:\n",
    "\n",
    "Part 1: A financial planner for emergencies. The members will be able to use this tool to visualize their current savings. The members can then determine if they have enough reserves for an emergency fund.\n",
    "\n",
    "Part 2: A financial planner for retirement. This tool will forecast the performance of their retirement portfolio in 30 years. To do this, the tool will make an Alpaca API call via the Alpaca SDK to get historical price data for use in Monte Carlo simulations.\n",
    "\n",
    "You’ll use the information from the Monte Carlo simulation to answer questions about the portfolio in your Jupyter notebook.\n",
    "\n"
   ]
  },
  {
   "cell_type": "code",
   "execution_count": 29,
   "metadata": {},
   "outputs": [],
   "source": [
    "# Import the required libraries and dependencies\n",
    "import os\n",
    "import requests\n",
    "import json\n",
    "import pandas as pd\n",
    "from dotenv import load_dotenv, find_dotenv\n",
    "import alpaca_trade_api as tradeapi\n",
    "from MCForecastTools import MCSimulation\n",
    "from datetime import timedelta\n",
    "%matplotlib inline"
   ]
  },
  {
   "cell_type": "code",
   "execution_count": 30,
   "metadata": {},
   "outputs": [
    {
     "data": {
      "text/plain": [
       "True"
      ]
     },
     "execution_count": 30,
     "metadata": {},
     "output_type": "execute_result"
    }
   ],
   "source": [
    "# Load the environment variables from the .env file\n",
    "#by calling the load_dotenv function\n",
    "load_dotenv()"
   ]
  },
  {
   "cell_type": "markdown",
   "metadata": {},
   "source": [
    "## Part 1: Create a Financial Planner for Emergencies"
   ]
  },
  {
   "cell_type": "markdown",
   "metadata": {},
   "source": [
    "### Evaluate the Cryptocurrency Wallet by Using the Requests Library\n",
    "\n",
    "In this section, you’ll determine the current value of a member’s cryptocurrency wallet. You’ll collect the current prices for the Bitcoin and Ethereum cryptocurrencies by using the Python Requests library. For the prototype, you’ll assume that the member holds the 1.2 Bitcoins (BTC) and 5.3 Ethereum coins (ETH). To do all this, complete the following steps:\n",
    "\n",
    "1. Create a variable named `monthly_income`, and set its value to `12000`.\n",
    "\n",
    "2. Use the Requests library to get the current price (in US dollars) of Bitcoin (BTC) and Ethereum (ETH) by using the API endpoints that the starter code supplies.\n",
    "\n",
    "3. Navigate the JSON response object to access the current price of each coin, and store each in a variable.\n",
    "\n",
    "    > **Hint** Note the specific identifier for each cryptocurrency in the API JSON response. The Bitcoin identifier is `1`, and the Ethereum identifier is `1027`.\n",
    "\n",
    "4. Calculate the value, in US dollars, of the current amount of each cryptocurrency and of the entire cryptocurrency wallet.\n",
    "\n"
   ]
  },
  {
   "cell_type": "code",
   "execution_count": 31,
   "metadata": {},
   "outputs": [],
   "source": [
    "# The current number of coins for each cryptocurrency asset held in the portfolio.\n",
    "btc_coins = 1.2\n",
    "eth_coins = 5.3"
   ]
  },
  {
   "cell_type": "markdown",
   "metadata": {},
   "source": [
    "#### Step 1: Create a variable named `monthly_income`, and set its value to `12000`."
   ]
  },
  {
   "cell_type": "code",
   "execution_count": 32,
   "metadata": {},
   "outputs": [],
   "source": [
    "# The monthly amount for the member's household income\n",
    "monthly_income=12000\n"
   ]
  },
  {
   "cell_type": "markdown",
   "metadata": {},
   "source": [
    "#### Review the endpoint URLs for the API calls to Free Crypto API in order to get the current pricing information for both BTC and ETH."
   ]
  },
  {
   "cell_type": "code",
   "execution_count": 33,
   "metadata": {},
   "outputs": [],
   "source": [
    "# The Free Crypto API Call endpoint URLs for the held cryptocurrency assets\n",
    "btc_url = \"https://api.alternative.me/v2/ticker/Bitcoin/?convert=USD\"\n",
    "eth_url = \"https://api.alternative.me/v2/ticker/Ethereum/?convert=USD\""
   ]
  },
  {
   "cell_type": "markdown",
   "metadata": {},
   "source": [
    "#### Step 2. Use the Requests library to get the current price (in US dollars) of Bitcoin (BTC) and Ethereum (ETH) by using the API endpoints that the starter code supplied."
   ]
  },
  {
   "cell_type": "code",
   "execution_count": 34,
   "metadata": {},
   "outputs": [
    {
     "name": "stdout",
     "output_type": "stream",
     "text": [
      "{\n",
      "    \"data\": {\n",
      "        \"1\": {\n",
      "            \"circulating_supply\": 18884943,\n",
      "            \"id\": 1,\n",
      "            \"last_updated\": 1638057194,\n",
      "            \"max_supply\": 21000000,\n",
      "            \"name\": \"Bitcoin\",\n",
      "            \"quotes\": {\n",
      "                \"USD\": {\n",
      "                    \"market_cap\": 1030781591913,\n",
      "                    \"percent_change_1h\": -0.880535177967226,\n",
      "                    \"percent_change_24h\": 1.20286427174811,\n",
      "                    \"percent_change_7d\": -6.71553477640154,\n",
      "                    \"percentage_change_1h\": -0.880535177967226,\n",
      "                    \"percentage_change_24h\": 1.20286427174811,\n",
      "                    \"percentage_change_7d\": -6.71553477640154,\n",
      "                    \"price\": 54533.0,\n",
      "                    \"volume_24h\": 28256851068\n",
      "                }\n",
      "            },\n",
      "            \"rank\": 1,\n",
      "            \"symbol\": \"BTC\",\n",
      "            \"total_supply\": 18884943,\n",
      "            \"website_slug\": \"bitcoin\"\n",
      "        }\n",
      "    },\n",
      "    \"metadata\": {\n",
      "        \"error\": null,\n",
      "        \"num_cryptocurrencies\": 3105,\n",
      "        \"timestamp\": 1638057194\n",
      "    }\n",
      "}\n"
     ]
    }
   ],
   "source": [
    "# Using the Python requests library, make an API call to access the current price of BTC\n",
    "btc_response = requests.get(btc_url).json()\n",
    "\n",
    "# Use the json.dumps function to review the response data from the API call\n",
    "# Use the indent and sort_keys parameters to make the response object readable\n",
    "print(json.dumps(btc_response, sort_keys=True, indent=4))\n"
   ]
  },
  {
   "cell_type": "code",
   "execution_count": 35,
   "metadata": {},
   "outputs": [
    {
     "name": "stdout",
     "output_type": "stream",
     "text": [
      "{\n",
      "    \"data\": {\n",
      "        \"1027\": {\n",
      "            \"circulating_supply\": 118516428,\n",
      "            \"id\": 1027,\n",
      "            \"last_updated\": 1638057174,\n",
      "            \"max_supply\": 0,\n",
      "            \"name\": \"Ethereum\",\n",
      "            \"quotes\": {\n",
      "                \"USD\": {\n",
      "                    \"market_cap\": 483997326749,\n",
      "                    \"percent_change_1h\": -1.14743067731423,\n",
      "                    \"percent_change_24h\": 0.590673232381232,\n",
      "                    \"percent_change_7d\": -5.57768752277774,\n",
      "                    \"percentage_change_1h\": -1.14743067731423,\n",
      "                    \"percentage_change_24h\": 0.590673232381232,\n",
      "                    \"percentage_change_7d\": -5.57768752277774,\n",
      "                    \"price\": 4076.78,\n",
      "                    \"volume_24h\": 16493565505\n",
      "                }\n",
      "            },\n",
      "            \"rank\": 2,\n",
      "            \"symbol\": \"ETH\",\n",
      "            \"total_supply\": 118516428,\n",
      "            \"website_slug\": \"ethereum\"\n",
      "        }\n",
      "    },\n",
      "    \"metadata\": {\n",
      "        \"error\": null,\n",
      "        \"num_cryptocurrencies\": 3105,\n",
      "        \"timestamp\": 1638057174\n",
      "    }\n",
      "}\n"
     ]
    }
   ],
   "source": [
    "# Using the Python requests library, make an API call to access the current price ETH\n",
    "eth_response = requests.get(eth_url).json()\n",
    "\n",
    "# Use the json.dumps function to review the response data from the API call\n",
    "# Use the indent and sort_keys parameters to make the response object readable\n",
    "print(json.dumps(eth_response, sort_keys=True, indent=4))\n"
   ]
  },
  {
   "cell_type": "markdown",
   "metadata": {},
   "source": [
    "#### Step 3: Navigate the JSON response object to access the current price of each coin, and store each in a variable."
   ]
  },
  {
   "cell_type": "code",
   "execution_count": 36,
   "metadata": {
    "scrolled": true
   },
   "outputs": [
    {
     "name": "stdout",
     "output_type": "stream",
     "text": [
      "54533.0\n"
     ]
    }
   ],
   "source": [
    "# Navigate the BTC response object to access the current price of BTC\n",
    "btc_price = btc_response[\"data\"][\"1\"][\"quotes\"][\"USD\"][\"price\"]\n",
    "\n",
    "# Print the current price of BTC\n",
    "print(btc_price)\n"
   ]
  },
  {
   "cell_type": "code",
   "execution_count": 37,
   "metadata": {},
   "outputs": [
    {
     "name": "stdout",
     "output_type": "stream",
     "text": [
      "4076.78\n"
     ]
    }
   ],
   "source": [
    "# Navigate the ETH response object to access the current price of ETH\n",
    "eth_price = eth_response[\"data\"][\"1027\"][\"quotes\"][\"USD\"][\"price\"]\n",
    "\n",
    "# Print the current price of ETH\n",
    "print(eth_price)\n"
   ]
  },
  {
   "cell_type": "markdown",
   "metadata": {},
   "source": [
    "### Step 4: Calculate the value, in US dollars, of the current amount of each cryptocurrency and of the entire cryptocurrency wallet."
   ]
  },
  {
   "cell_type": "code",
   "execution_count": 38,
   "metadata": {},
   "outputs": [
    {
     "name": "stdout",
     "output_type": "stream",
     "text": [
      "65439.6\n"
     ]
    }
   ],
   "source": [
    "# Compute the current value of the BTC holding \n",
    "btc_value = btc_coins*btc_price\n",
    "\n",
    "# Print current value of your holding in BTC\n",
    "print(btc_value)\n"
   ]
  },
  {
   "cell_type": "code",
   "execution_count": 39,
   "metadata": {},
   "outputs": [
    {
     "name": "stdout",
     "output_type": "stream",
     "text": [
      "21606.934\n"
     ]
    }
   ],
   "source": [
    "# Compute the current value of the ETH holding \n",
    "eth_value = eth_coins*eth_price\n",
    "\n",
    "# Print current value of your holding in ETH\n",
    "print(eth_value)\n"
   ]
  },
  {
   "cell_type": "code",
   "execution_count": 40,
   "metadata": {},
   "outputs": [
    {
     "name": "stdout",
     "output_type": "stream",
     "text": [
      "87046.534\n"
     ]
    }
   ],
   "source": [
    "# Compute the total value of the cryptocurrency wallet\n",
    "# Add the value of the BTC holding to the value of the ETH holding\n",
    "total_crypto_wallet = btc_value+eth_value\n",
    "\n",
    "# Print current cryptocurrency wallet balance\n",
    "print(total_crypto_wallet)\n"
   ]
  },
  {
   "cell_type": "markdown",
   "metadata": {},
   "source": [
    "### Evaluate the Stock and Bond Holdings by Using the Alpaca SDK\n",
    "\n",
    "In this section, you’ll determine the current value of a member’s stock and bond holdings. You’ll make an API call to Alpaca via the Alpaca SDK to get the current closing prices of the SPDR S&P 500 ETF Trust (ticker: SPY) and of the iShares Core US Aggregate Bond ETF (ticker: AGG). For the prototype, assume that the member holds 110 shares of SPY, which represents the stock portion of their portfolio, and 200 shares of AGG, which represents the bond portion. To do all this, complete the following steps:\n",
    "\n",
    "1. In the `Starter_Code` folder, create an environment file (`.env`) to store the values of your Alpaca API key and Alpaca secret key.\n",
    "\n",
    "2. Set the variables for the Alpaca API and secret keys. Using the Alpaca SDK, create the Alpaca `tradeapi.REST` object. In this object, include the parameters for the Alpaca API key, the secret key, and the version number.\n",
    "\n",
    "3. Set the following parameters for the Alpaca API call:\n",
    "\n",
    "    - `tickers`: Use the tickers for the member’s stock and bond holdings.\n",
    "\n",
    "    - `timeframe`: Use a time frame of one day.\n",
    "\n",
    "    - `start_date` and `end_date`: Use the same date for these parameters, and format them with the date of the previous weekday (or `2020-08-07`). This is because you want the one closing price for the most-recent trading day.\n",
    "\n",
    "4. Get the current closing prices for `SPY` and `AGG` by using the Alpaca `get_barset` function. Format the response as a Pandas DataFrame by including the `df` property at the end of the `get_barset` function.\n",
    "\n",
    "5. Navigating the Alpaca response DataFrame, select the `SPY` and `AGG` closing prices, and store them as variables.\n",
    "\n",
    "6. Calculate the value, in US dollars, of the current amount of shares in each of the stock and bond portions of the portfolio, and print the results.\n"
   ]
  },
  {
   "cell_type": "markdown",
   "metadata": {},
   "source": [
    "#### Review the total number of shares held in both (SPY) and (AGG)."
   ]
  },
  {
   "cell_type": "code",
   "execution_count": 41,
   "metadata": {},
   "outputs": [],
   "source": [
    "# Current amount of shares held in both the stock (SPY) and bond (AGG) portion of the portfolio.\n",
    "spy_shares = 110\n",
    "agg_shares = 200\n"
   ]
  },
  {
   "cell_type": "markdown",
   "metadata": {},
   "source": [
    "#### Step 1: In the `Starter_Code` folder, create an environment file (`.env`) to store the values of your Alpaca API key and Alpaca secret key."
   ]
  },
  {
   "cell_type": "markdown",
   "metadata": {},
   "source": [
    "#### Step 2: Set the variables for the Alpaca API and secret keys. Using the Alpaca SDK, create the Alpaca `tradeapi.REST` object. In this object, include the parameters for the Alpaca API key, the secret key, and the version number."
   ]
  },
  {
   "cell_type": "code",
   "execution_count": 42,
   "metadata": {
    "scrolled": true
   },
   "outputs": [],
   "source": [
    "# Set the variables for the Alpaca API and secret keysAl\n",
    " \n",
    "alpaca_api_key = os.getenv(\"alpaca_api_key1\")\n",
    "alpaca_secret_key = os.getenv(\"alpaca_secret_key1\")\n",
    "#print(alpaca_secret_key)\n",
    "#print(alpaca_api_key)\n",
    "#Create the Alpaca tradeapi.REST object\n",
    "alpaca=tradeapi.REST(alpaca_api_key,alpaca_secret_key,api_version=\"V2\")\n"
   ]
  },
  {
   "cell_type": "markdown",
   "metadata": {},
   "source": [
    "#### Step 3: Set the following parameters for the Alpaca API call:\n",
    "\n",
    "- `tickers`: Use the tickers for the member’s stock and bond holdings.\n",
    "\n",
    "- `timeframe`: Use a time frame of one day.\n",
    "\n",
    "- `start_date` and `end_date`: Use the same date for these parameters, and format them with the date of the previous weekday (or `2020-08-07`). This is because you want the one closing price for the most-recent trading day.\n"
   ]
  },
  {
   "cell_type": "code",
   "execution_count": 43,
   "metadata": {},
   "outputs": [
    {
     "name": "stdout",
     "output_type": "stream",
     "text": [
      "2021-11-26T16:00:05.356261\n"
     ]
    }
   ],
   "source": [
    "# Set the tickers for both the bond and stock portion of the portfolio\n",
    "tickers=[\"SPY\",\"AGG\"]\n",
    "\n",
    "# Set timeframe to 1D \n",
    "timeframe=\"1D\"\n",
    "\n",
    "# Format current date as ISO format\n",
    "# Set both the start and end date at the date of your prior weekday \n",
    "# This will give you the closing price of the previous trading day\n",
    "# Alternatively you can use a start and end date of 2020-08-07\n",
    "today=pd.Timestamp.today()\n",
    "yesterday= today-timedelta(days=1)\n",
    "print(yesterday.isoformat())\n",
    "\n",
    "\n",
    "\n"
   ]
  },
  {
   "cell_type": "markdown",
   "metadata": {},
   "source": [
    "#### Step 4: Get the current closing prices for `SPY` and `AGG` by using the Alpaca `get_barset` function. Format the response as a Pandas DataFrame by including the `df` property at the end of the `get_barset` function."
   ]
  },
  {
   "cell_type": "code",
   "execution_count": 44,
   "metadata": {},
   "outputs": [
    {
     "data": {
      "text/html": [
       "<div>\n",
       "<style scoped>\n",
       "    .dataframe tbody tr th:only-of-type {\n",
       "        vertical-align: middle;\n",
       "    }\n",
       "\n",
       "    .dataframe tbody tr th {\n",
       "        vertical-align: top;\n",
       "    }\n",
       "\n",
       "    .dataframe thead tr th {\n",
       "        text-align: left;\n",
       "    }\n",
       "\n",
       "    .dataframe thead tr:last-of-type th {\n",
       "        text-align: right;\n",
       "    }\n",
       "</style>\n",
       "<table border=\"1\" class=\"dataframe\">\n",
       "  <thead>\n",
       "    <tr>\n",
       "      <th></th>\n",
       "      <th colspan=\"5\" halign=\"left\">AGG</th>\n",
       "      <th colspan=\"5\" halign=\"left\">SPY</th>\n",
       "    </tr>\n",
       "    <tr>\n",
       "      <th></th>\n",
       "      <th>open</th>\n",
       "      <th>high</th>\n",
       "      <th>low</th>\n",
       "      <th>close</th>\n",
       "      <th>volume</th>\n",
       "      <th>open</th>\n",
       "      <th>high</th>\n",
       "      <th>low</th>\n",
       "      <th>close</th>\n",
       "      <th>volume</th>\n",
       "    </tr>\n",
       "    <tr>\n",
       "      <th>time</th>\n",
       "      <th></th>\n",
       "      <th></th>\n",
       "      <th></th>\n",
       "      <th></th>\n",
       "      <th></th>\n",
       "      <th></th>\n",
       "      <th></th>\n",
       "      <th></th>\n",
       "      <th></th>\n",
       "      <th></th>\n",
       "    </tr>\n",
       "  </thead>\n",
       "  <tbody>\n",
       "    <tr>\n",
       "      <th>2021-11-19 00:00:00-05:00</th>\n",
       "      <td>114.49</td>\n",
       "      <td>114.5900</td>\n",
       "      <td>114.4150</td>\n",
       "      <td>114.45</td>\n",
       "      <td>4843203</td>\n",
       "      <td>469.61</td>\n",
       "      <td>470.940</td>\n",
       "      <td>468.50</td>\n",
       "      <td>468.91</td>\n",
       "      <td>49009452</td>\n",
       "    </tr>\n",
       "    <tr>\n",
       "      <th>2021-11-22 00:00:00-05:00</th>\n",
       "      <td>114.14</td>\n",
       "      <td>114.2300</td>\n",
       "      <td>113.8200</td>\n",
       "      <td>113.88</td>\n",
       "      <td>6216218</td>\n",
       "      <td>470.81</td>\n",
       "      <td>473.540</td>\n",
       "      <td>467.35</td>\n",
       "      <td>467.53</td>\n",
       "      <td>61497941</td>\n",
       "    </tr>\n",
       "    <tr>\n",
       "      <th>2021-11-23 00:00:00-05:00</th>\n",
       "      <td>113.71</td>\n",
       "      <td>113.7700</td>\n",
       "      <td>113.4500</td>\n",
       "      <td>113.45</td>\n",
       "      <td>5835080</td>\n",
       "      <td>467.22</td>\n",
       "      <td>469.095</td>\n",
       "      <td>464.45</td>\n",
       "      <td>468.25</td>\n",
       "      <td>62851184</td>\n",
       "    </tr>\n",
       "    <tr>\n",
       "      <th>2021-11-24 00:00:00-05:00</th>\n",
       "      <td>113.47</td>\n",
       "      <td>113.7250</td>\n",
       "      <td>113.3905</td>\n",
       "      <td>113.72</td>\n",
       "      <td>5959367</td>\n",
       "      <td>466.06</td>\n",
       "      <td>469.570</td>\n",
       "      <td>465.19</td>\n",
       "      <td>469.37</td>\n",
       "      <td>54274217</td>\n",
       "    </tr>\n",
       "    <tr>\n",
       "      <th>2021-11-26 00:00:00-05:00</th>\n",
       "      <td>114.28</td>\n",
       "      <td>114.5769</td>\n",
       "      <td>114.2000</td>\n",
       "      <td>114.54</td>\n",
       "      <td>2886169</td>\n",
       "      <td>462.38</td>\n",
       "      <td>463.900</td>\n",
       "      <td>457.77</td>\n",
       "      <td>459.03</td>\n",
       "      <td>93783057</td>\n",
       "    </tr>\n",
       "  </tbody>\n",
       "</table>\n",
       "</div>"
      ],
      "text/plain": [
       "                              AGG                                       \\\n",
       "                             open      high       low   close   volume   \n",
       "time                                                                     \n",
       "2021-11-19 00:00:00-05:00  114.49  114.5900  114.4150  114.45  4843203   \n",
       "2021-11-22 00:00:00-05:00  114.14  114.2300  113.8200  113.88  6216218   \n",
       "2021-11-23 00:00:00-05:00  113.71  113.7700  113.4500  113.45  5835080   \n",
       "2021-11-24 00:00:00-05:00  113.47  113.7250  113.3905  113.72  5959367   \n",
       "2021-11-26 00:00:00-05:00  114.28  114.5769  114.2000  114.54  2886169   \n",
       "\n",
       "                              SPY                                     \n",
       "                             open     high     low   close    volume  \n",
       "time                                                                  \n",
       "2021-11-19 00:00:00-05:00  469.61  470.940  468.50  468.91  49009452  \n",
       "2021-11-22 00:00:00-05:00  470.81  473.540  467.35  467.53  61497941  \n",
       "2021-11-23 00:00:00-05:00  467.22  469.095  464.45  468.25  62851184  \n",
       "2021-11-24 00:00:00-05:00  466.06  469.570  465.19  469.37  54274217  \n",
       "2021-11-26 00:00:00-05:00  462.38  463.900  457.77  459.03  93783057  "
      ]
     },
     "execution_count": 44,
     "metadata": {},
     "output_type": "execute_result"
    }
   ],
   "source": [
    "# Use the Alpaca get_barset function to get current closing prices the portfolio\n",
    "# Be sure to set the `df` property after the function to format the response object as a DataFrame\n",
    "spy_agg_df=alpaca.get_barset(tickers,timeframe, start=yesterday.isoformat(), end=today.isoformat()).df\n",
    "\n",
    "# Review the last 5 rows of the Alpaca DataFrame\n",
    "# YOUR CODE HERE\n",
    "spy_agg_df.tail(5)"
   ]
  },
  {
   "cell_type": "markdown",
   "metadata": {},
   "source": [
    "#### Step 5: Navigating the Alpaca response DataFrame, select the `SPY` and `AGG` closing prices, and store them as variables."
   ]
  },
  {
   "cell_type": "code",
   "execution_count": 45,
   "metadata": {},
   "outputs": [
    {
     "name": "stdout",
     "output_type": "stream",
     "text": [
      "114.54\n"
     ]
    }
   ],
   "source": [
    "\n",
    "# Access the closing price for AGG from the Alpaca DataFrame\n",
    "# Converting the value to a floating point number\n",
    "\n",
    "\n",
    "agg_close_price = spy_agg_df[\"AGG\"][\"close\"].iloc[-1]\n",
    "# Print the AGG closing price\n",
    "print(float(agg_close_price))\n"
   ]
  },
  {
   "cell_type": "code",
   "execution_count": 46,
   "metadata": {},
   "outputs": [
    {
     "name": "stdout",
     "output_type": "stream",
     "text": [
      "459.03\n"
     ]
    }
   ],
   "source": [
    "# Access the closing price for SPY from the Alpaca DataFrame\n",
    "# Converting the value to a floating point number\n",
    "spy_close_price = spy_agg_df[\"SPY\"][\"close\"].iloc[-1]\n",
    "\n",
    "# Print the SPY closing price\n",
    "print(float(spy_close_price))\n",
    "\n"
   ]
  },
  {
   "cell_type": "markdown",
   "metadata": {},
   "source": [
    "#### Step 6: Calculate the value, in US dollars, of the current amount of shares in each of the stock and bond portions of the portfolio, and print the results."
   ]
  },
  {
   "cell_type": "code",
   "execution_count": 47,
   "metadata": {},
   "outputs": [
    {
     "name": "stdout",
     "output_type": "stream",
     "text": [
      "22908.0\n"
     ]
    }
   ],
   "source": [
    "# Calculate the current value of the bond portion of the portfolio\n",
    "agg_value = agg_close_price*agg_shares\n",
    "\n",
    "# Print the current value of the bond portfolio\n",
    "print(agg_value)\n"
   ]
  },
  {
   "cell_type": "code",
   "execution_count": 48,
   "metadata": {},
   "outputs": [
    {
     "name": "stdout",
     "output_type": "stream",
     "text": [
      "50493.299999999996\n"
     ]
    }
   ],
   "source": [
    "# Calculate the current value of the stock portion of the portfolio\n",
    "spy_value = spy_close_price*spy_shares\n",
    "\n",
    "# Print the current value of the stock portfolio\n",
    "print(spy_value)\n"
   ]
  },
  {
   "cell_type": "code",
   "execution_count": 49,
   "metadata": {},
   "outputs": [
    {
     "name": "stdout",
     "output_type": "stream",
     "text": [
      "73401.29999999999\n"
     ]
    }
   ],
   "source": [
    "# Calculate the total value of the stock and bond portion of the portfolio\n",
    "total_stocks_bonds = agg_value+spy_value\n",
    "\n",
    "# Print the current balance of the stock and bond portion of the portfolio\n",
    "print(total_stocks_bonds)\n"
   ]
  },
  {
   "cell_type": "code",
   "execution_count": 50,
   "metadata": {},
   "outputs": [
    {
     "name": "stdout",
     "output_type": "stream",
     "text": [
      "160447.83399999997\n"
     ]
    }
   ],
   "source": [
    "# Calculate the total value of the member's entire savings portfolio\n",
    "# Add the value of the cryptocurrency walled to the value of the total stocks and bonds\n",
    "total_portfolio = total_stocks_bonds+total_crypto_wallet\n",
    "\n",
    "# Print current cryptocurrency wallet balance\n",
    "print(float(total_portfolio))\n"
   ]
  },
  {
   "cell_type": "markdown",
   "metadata": {},
   "source": [
    "### Evaluate the Emergency Fund\n",
    "\n",
    "In this section, you’ll use the valuations for the cryptocurrency wallet and for the stock and bond portions of the portfolio to determine if the credit union member has enough savings to build an emergency fund into their financial plan. To do this, complete the following steps:\n",
    "\n",
    "1. Create a Python list named `savings_data` that has two elements. The first element contains the total value of the cryptocurrency wallet. The second element contains the total value of the stock and bond portions of the portfolio.\n",
    "\n",
    "2. Use the `savings_data` list to create a Pandas DataFrame named `savings_df`, and then display this DataFrame. The function to create the DataFrame should take the following three parameters:\n",
    "\n",
    "    - `savings_data`: Use the list that you just created.\n",
    "\n",
    "    - `columns`: Set this parameter equal to a Python list with a single value called `amount`.\n",
    "\n",
    "    - `index`: Set this parameter equal to a Python list with the values of `crypto` and `stock/bond`.\n",
    "\n",
    "3. Use the `savings_df` DataFrame to plot a pie chart that visualizes the composition of the member’s portfolio. The y-axis of the pie chart uses `amount`. Be sure to add a title.\n",
    "\n",
    "4. Using Python, determine if the current portfolio has enough to create an emergency fund as part of the member’s financial plan. Ideally, an emergency fund should equal to three times the member’s monthly income. To do this, implement the following steps:\n",
    "\n",
    "    1. Create a variable named `emergency_fund_value`, and set it equal to three times the value of the member’s `monthly_income` of $12000. (You set this earlier in Part 1).\n",
    "\n",
    "    2. Create a series of three if statements to determine if the member’s total portfolio is large enough to fund the emergency portfolio:\n",
    "\n",
    "        1. If the total portfolio value is greater than the emergency fund value, display a message congratulating the member for having enough money in this fund.\n",
    "\n",
    "        2. Else if the total portfolio value is equal to the emergency fund value, display a message congratulating the member on reaching this important financial goal.\n",
    "\n",
    "        3. Else the total portfolio is less than the emergency fund value, so display a message showing how many dollars away the member is from reaching the goal. (Subtract the total portfolio value from the emergency fund value.)\n"
   ]
  },
  {
   "cell_type": "markdown",
   "metadata": {},
   "source": [
    "#### Step 1: Create a Python list named `savings_data` that has two elements. The first element contains the total value of the cryptocurrency wallet. The second element contains the total value of the stock and bond portions of the portfolio."
   ]
  },
  {
   "cell_type": "code",
   "execution_count": 53,
   "metadata": {},
   "outputs": [
    {
     "name": "stdout",
     "output_type": "stream",
     "text": [
      "[87046.534, 73401.29999999999]\n"
     ]
    }
   ],
   "source": [
    "# Consolidate financial assets data into a Python list\n",
    "savings_data=[total_crypto_wallet,total_stocks_bonds]\n",
    "\n",
    "# Review the Python list savings_data\n",
    "print(savings_data)\n",
    "    "
   ]
  },
  {
   "cell_type": "markdown",
   "metadata": {},
   "source": [
    "#### Step 2: Use the `savings_data` list to create a Pandas DataFrame named `savings_df`, and then display this DataFrame. The function to create the DataFrame should take the following three parameters:\n",
    "\n",
    "- `savings_data`: Use the list that you just created.\n",
    "\n",
    "- `columns`: Set this parameter equal to a Python list with a single value called `amount`.\n",
    "\n",
    "- `index`: Set this parameter equal to a Python list with the values of `crypto` and `stock/bond`.\n"
   ]
  },
  {
   "cell_type": "code",
   "execution_count": 54,
   "metadata": {},
   "outputs": [
    {
     "data": {
      "text/html": [
       "<div>\n",
       "<style scoped>\n",
       "    .dataframe tbody tr th:only-of-type {\n",
       "        vertical-align: middle;\n",
       "    }\n",
       "\n",
       "    .dataframe tbody tr th {\n",
       "        vertical-align: top;\n",
       "    }\n",
       "\n",
       "    .dataframe thead th {\n",
       "        text-align: right;\n",
       "    }\n",
       "</style>\n",
       "<table border=\"1\" class=\"dataframe\">\n",
       "  <thead>\n",
       "    <tr style=\"text-align: right;\">\n",
       "      <th></th>\n",
       "      <th>amount</th>\n",
       "    </tr>\n",
       "  </thead>\n",
       "  <tbody>\n",
       "    <tr>\n",
       "      <th>crypto</th>\n",
       "      <td>87046.534</td>\n",
       "    </tr>\n",
       "    <tr>\n",
       "      <th>stock/bond</th>\n",
       "      <td>73401.300</td>\n",
       "    </tr>\n",
       "  </tbody>\n",
       "</table>\n",
       "</div>"
      ],
      "text/plain": [
       "               amount\n",
       "crypto      87046.534\n",
       "stock/bond  73401.300"
      ]
     },
     "execution_count": 54,
     "metadata": {},
     "output_type": "execute_result"
    }
   ],
   "source": [
    "# Create a Pandas DataFrame called savings_df \n",
    "index_rows=[\"crypto\",\"stock/bond\"]\n",
    "savings_df = pd.DataFrame(savings_data, columns=[\"amount\"], index=index_rows)\n",
    "\n",
    "# Display the savings_df DataFrame\n",
    "savings_df\n"
   ]
  },
  {
   "cell_type": "markdown",
   "metadata": {},
   "source": [
    "#### Step 3: Use the `savings_df` DataFrame to plot a pie chart that visualizes the composition of the member’s portfolio. The y-axis of the pie chart uses `amount`. Be sure to add a title."
   ]
  },
  {
   "cell_type": "code",
   "execution_count": 55,
   "metadata": {},
   "outputs": [
    {
     "data": {
      "text/plain": [
       "array([<AxesSubplot:ylabel='amount'>], dtype=object)"
      ]
     },
     "execution_count": 55,
     "metadata": {},
     "output_type": "execute_result"
    },
    {
     "data": {
      "image/png": "[encoded data removed]",
      "text/plain": [
       "<Figure size 432x288 with 1 Axes>"
      ]
     },
     "metadata": {},
     "output_type": "display_data"
    }
   ],
   "source": [
    "# Plot the total value of the member's portfolio (crypto and stock/bond) in a pie chart\n",
    "\n",
    "savings_df.plot(kind=\"pie\", subplots=True)\n"
   ]
  },
  {
   "cell_type": "markdown",
   "metadata": {},
   "source": [
    "#### Step 4: Using Python, determine if the current portfolio has enough to create an emergency fund as part of the member’s financial plan. Ideally, an emergency fund should equal to three times the member’s monthly income. To do this, implement the following steps:\n",
    "\n",
    "Step 1. Create a variable named `emergency_fund_value`, and set it equal to three times the value of the member’s `monthly_income` of 12000. (You set this earlier in Part 1).\n",
    "\n",
    "Step 2. Create a series of three if statements to determine if the member’s total portfolio is large enough to fund the emergency portfolio:\n",
    "\n",
    "* If the total portfolio value is greater than the emergency fund value, display a message congratulating the member for having enough money in this fund.\n",
    "\n",
    "* Else if the total portfolio value is equal to the emergency fund value, display a message congratulating the member on reaching this important financial goal.\n",
    "\n",
    "* Else the total portfolio is less than the emergency fund value, so display a message showing how many dollars away the member is from reaching the goal. (Subtract the total portfolio value from the emergency fund value.)\n"
   ]
  },
  {
   "cell_type": "markdown",
   "metadata": {},
   "source": [
    "##### Step 4-1: Create a variable named `emergency_fund_value`, and set it equal to three times the value of the member’s `monthly_income` of 12000. (You set this earlier in Part 1)."
   ]
  },
  {
   "cell_type": "code",
   "execution_count": 56,
   "metadata": {},
   "outputs": [],
   "source": [
    "# Create a variable named emergency_fund_value\n",
    "emergency_fund_value=monthly_income*3\n"
   ]
  },
  {
   "cell_type": "markdown",
   "metadata": {},
   "source": [
    "##### Step 4-2: Create a series of three if statements to determine if the member’s total portfolio is large enough to fund the emergency portfolio:\n",
    "\n",
    "* If the total portfolio value is greater than the emergency fund value, display a message congratulating the member for having enough money in this fund.\n",
    "\n",
    "* Else if the total portfolio value is equal to the emergency fund value, display a message congratulating the member on reaching this important financial goal.\n",
    "\n",
    "* Else the total portfolio is less than the emergency fund value, so display a message showing how many dollars away the member is from reaching the goal. (Subtract the total portfolio value from the emergency fund value.)"
   ]
  },
  {
   "cell_type": "code",
   "execution_count": 57,
   "metadata": {},
   "outputs": [
    {
     "name": "stdout",
     "output_type": "stream",
     "text": [
      "Congratulations! You have more than enough money in your emergency fund.\n"
     ]
    }
   ],
   "source": [
    "# Evaluate the possibility of creating an emergency fund with 3 conditions:\n",
    "if total_portfolio>emergency_fund_value:\n",
    "    print(\"Congratulations! You have more than enough money in your emergency fund.\")\n",
    "elif total_portfolio==emergenecy_fund_value :\n",
    "    print(\"Congratulations! You have right about enough money in your emergency fund but a little more would be even nicer! \")\n",
    "else: \n",
    "    print(\"You are \"+{emergency_fund-total_portfolio}+\" away from your emergency fund goal. \")"
   ]
  },
  {
   "cell_type": "markdown",
   "metadata": {},
   "source": [
    "## Part 2: Create a Financial Planner for Retirement"
   ]
  },
  {
   "cell_type": "markdown",
   "metadata": {},
   "source": [
    "### Create the Monte Carlo Simulation\n",
    "\n",
    "In this section, you’ll use the MCForecastTools library to create a Monte Carlo simulation for the member’s savings portfolio. To do this, complete the following steps:\n",
    "\n",
    "1. Make an API call via the Alpaca SDK to get 3 years of historical closing prices for a traditional 60/40 portfolio split: 60% stocks (SPY) and 40% bonds (AGG).\n",
    "\n",
    "2. Run a Monte Carlo simulation of 500 samples and 30 years for the 60/40 portfolio, and then plot the results.The following image shows the overlay line plot resulting from a simulation with these characteristics. However, because a random number generator is used to run each live Monte Carlo simulation, your image will differ slightly from this exact image:\n",
    "\n",
    "![A screenshot depicts the resulting plot.](Images/5-4-monte-carlo-line-plot.png)\n",
    "\n",
    "3. Plot the probability distribution of the Monte Carlo simulation. Plot the probability distribution of the Monte Carlo simulation. The following image shows the histogram plot resulting from a simulation with these characteristics. However, because a random number generator is used to run each live Monte Carlo simulation, your image will differ slightly from this exact image:\n",
    "\n",
    "![A screenshot depicts the histogram plot.](Images/5-4-monte-carlo-histogram.png)\n",
    "\n",
    "4. Generate the summary statistics for the Monte Carlo simulation.\n",
    "\n"
   ]
  },
  {
   "cell_type": "markdown",
   "metadata": {},
   "source": [
    "#### Step 1: Make an API call via the Alpaca SDK to get 3 years of historical closing prices for a traditional 60/40 portfolio split: 60% stocks (SPY) and 40% bonds (AGG)."
   ]
  },
  {
   "cell_type": "code",
   "execution_count": 58,
   "metadata": {},
   "outputs": [
    {
     "name": "stdout",
     "output_type": "stream",
     "text": [
      "2018-11-28 16:06:09.108497\n"
     ]
    }
   ],
   "source": [
    "# Set start and end dates of 3 years back from your current date\n",
    "# Alternatively, you can use an end date of 2020-08-07 and work 3 years back from that date \n",
    "current_date=pd.Timestamp.today()\n",
    "three_yr_before_today= current_date-timedelta(days=1095)\n",
    "print(three_yr_before_today)\n",
    "# Set number of rows to 1000 to retrieve the maximum amount of rows\n",
    "# YOUR CODE HERE"
   ]
  },
  {
   "cell_type": "code",
   "execution_count": 59,
   "metadata": {},
   "outputs": [
    {
     "data": {
      "text/html": [
       "<div>\n",
       "<style scoped>\n",
       "    .dataframe tbody tr th:only-of-type {\n",
       "        vertical-align: middle;\n",
       "    }\n",
       "\n",
       "    .dataframe tbody tr th {\n",
       "        vertical-align: top;\n",
       "    }\n",
       "\n",
       "    .dataframe thead tr th {\n",
       "        text-align: left;\n",
       "    }\n",
       "\n",
       "    .dataframe thead tr:last-of-type th {\n",
       "        text-align: right;\n",
       "    }\n",
       "</style>\n",
       "<table border=\"1\" class=\"dataframe\">\n",
       "  <thead>\n",
       "    <tr>\n",
       "      <th></th>\n",
       "      <th colspan=\"5\" halign=\"left\">AGG</th>\n",
       "      <th colspan=\"5\" halign=\"left\">SPY</th>\n",
       "    </tr>\n",
       "    <tr>\n",
       "      <th></th>\n",
       "      <th>open</th>\n",
       "      <th>high</th>\n",
       "      <th>low</th>\n",
       "      <th>close</th>\n",
       "      <th>volume</th>\n",
       "      <th>open</th>\n",
       "      <th>high</th>\n",
       "      <th>low</th>\n",
       "      <th>close</th>\n",
       "      <th>volume</th>\n",
       "    </tr>\n",
       "    <tr>\n",
       "      <th>time</th>\n",
       "      <th></th>\n",
       "      <th></th>\n",
       "      <th></th>\n",
       "      <th></th>\n",
       "      <th></th>\n",
       "      <th></th>\n",
       "      <th></th>\n",
       "      <th></th>\n",
       "      <th></th>\n",
       "      <th></th>\n",
       "    </tr>\n",
       "  </thead>\n",
       "  <tbody>\n",
       "    <tr>\n",
       "      <th>2017-12-06 00:00:00-05:00</th>\n",
       "      <td>109.42</td>\n",
       "      <td>109.5200</td>\n",
       "      <td>109.3700</td>\n",
       "      <td>109.37</td>\n",
       "      <td>2719857.0</td>\n",
       "      <td>NaN</td>\n",
       "      <td>NaN</td>\n",
       "      <td>NaN</td>\n",
       "      <td>NaN</td>\n",
       "      <td>NaN</td>\n",
       "    </tr>\n",
       "    <tr>\n",
       "      <th>2017-12-07 00:00:00-05:00</th>\n",
       "      <td>109.44</td>\n",
       "      <td>109.4600</td>\n",
       "      <td>109.1536</td>\n",
       "      <td>109.23</td>\n",
       "      <td>2430316.0</td>\n",
       "      <td>263.09</td>\n",
       "      <td>264.430</td>\n",
       "      <td>262.940</td>\n",
       "      <td>264.04</td>\n",
       "      <td>40146879.0</td>\n",
       "    </tr>\n",
       "    <tr>\n",
       "      <th>2017-12-08 00:00:00-05:00</th>\n",
       "      <td>109.21</td>\n",
       "      <td>109.2900</td>\n",
       "      <td>109.1450</td>\n",
       "      <td>109.19</td>\n",
       "      <td>1533143.0</td>\n",
       "      <td>265.01</td>\n",
       "      <td>265.520</td>\n",
       "      <td>264.720</td>\n",
       "      <td>265.49</td>\n",
       "      <td>41139547.0</td>\n",
       "    </tr>\n",
       "    <tr>\n",
       "      <th>2017-12-11 00:00:00-05:00</th>\n",
       "      <td>109.29</td>\n",
       "      <td>109.3200</td>\n",
       "      <td>109.1300</td>\n",
       "      <td>109.13</td>\n",
       "      <td>2475019.0</td>\n",
       "      <td>265.57</td>\n",
       "      <td>266.380</td>\n",
       "      <td>265.490</td>\n",
       "      <td>266.34</td>\n",
       "      <td>38104278.0</td>\n",
       "    </tr>\n",
       "    <tr>\n",
       "      <th>2017-12-12 00:00:00-05:00</th>\n",
       "      <td>109.07</td>\n",
       "      <td>109.1100</td>\n",
       "      <td>108.9500</td>\n",
       "      <td>109.10</td>\n",
       "      <td>2839614.0</td>\n",
       "      <td>266.59</td>\n",
       "      <td>267.320</td>\n",
       "      <td>266.345</td>\n",
       "      <td>266.79</td>\n",
       "      <td>46482549.0</td>\n",
       "    </tr>\n",
       "    <tr>\n",
       "      <th>...</th>\n",
       "      <td>...</td>\n",
       "      <td>...</td>\n",
       "      <td>...</td>\n",
       "      <td>...</td>\n",
       "      <td>...</td>\n",
       "      <td>...</td>\n",
       "      <td>...</td>\n",
       "      <td>...</td>\n",
       "      <td>...</td>\n",
       "      <td>...</td>\n",
       "    </tr>\n",
       "    <tr>\n",
       "      <th>2021-11-19 00:00:00-05:00</th>\n",
       "      <td>114.49</td>\n",
       "      <td>114.5900</td>\n",
       "      <td>114.4150</td>\n",
       "      <td>114.45</td>\n",
       "      <td>4843203.0</td>\n",
       "      <td>469.61</td>\n",
       "      <td>470.940</td>\n",
       "      <td>468.500</td>\n",
       "      <td>468.91</td>\n",
       "      <td>49009452.0</td>\n",
       "    </tr>\n",
       "    <tr>\n",
       "      <th>2021-11-22 00:00:00-05:00</th>\n",
       "      <td>114.14</td>\n",
       "      <td>114.2300</td>\n",
       "      <td>113.8200</td>\n",
       "      <td>113.88</td>\n",
       "      <td>6216218.0</td>\n",
       "      <td>470.81</td>\n",
       "      <td>473.540</td>\n",
       "      <td>467.350</td>\n",
       "      <td>467.53</td>\n",
       "      <td>61497941.0</td>\n",
       "    </tr>\n",
       "    <tr>\n",
       "      <th>2021-11-23 00:00:00-05:00</th>\n",
       "      <td>113.71</td>\n",
       "      <td>113.7700</td>\n",
       "      <td>113.4500</td>\n",
       "      <td>113.45</td>\n",
       "      <td>5835080.0</td>\n",
       "      <td>467.22</td>\n",
       "      <td>469.095</td>\n",
       "      <td>464.450</td>\n",
       "      <td>468.25</td>\n",
       "      <td>62851184.0</td>\n",
       "    </tr>\n",
       "    <tr>\n",
       "      <th>2021-11-24 00:00:00-05:00</th>\n",
       "      <td>113.47</td>\n",
       "      <td>113.7250</td>\n",
       "      <td>113.3905</td>\n",
       "      <td>113.72</td>\n",
       "      <td>5959367.0</td>\n",
       "      <td>466.06</td>\n",
       "      <td>469.570</td>\n",
       "      <td>465.190</td>\n",
       "      <td>469.37</td>\n",
       "      <td>54274217.0</td>\n",
       "    </tr>\n",
       "    <tr>\n",
       "      <th>2021-11-26 00:00:00-05:00</th>\n",
       "      <td>114.28</td>\n",
       "      <td>114.5769</td>\n",
       "      <td>114.2000</td>\n",
       "      <td>114.54</td>\n",
       "      <td>2886169.0</td>\n",
       "      <td>462.38</td>\n",
       "      <td>463.900</td>\n",
       "      <td>457.770</td>\n",
       "      <td>459.03</td>\n",
       "      <td>93783057.0</td>\n",
       "    </tr>\n",
       "  </tbody>\n",
       "</table>\n",
       "<p>1001 rows × 10 columns</p>\n",
       "</div>"
      ],
      "text/plain": [
       "                              AGG                                         \\\n",
       "                             open      high       low   close     volume   \n",
       "time                                                                       \n",
       "2017-12-06 00:00:00-05:00  109.42  109.5200  109.3700  109.37  2719857.0   \n",
       "2017-12-07 00:00:00-05:00  109.44  109.4600  109.1536  109.23  2430316.0   \n",
       "2017-12-08 00:00:00-05:00  109.21  109.2900  109.1450  109.19  1533143.0   \n",
       "2017-12-11 00:00:00-05:00  109.29  109.3200  109.1300  109.13  2475019.0   \n",
       "2017-12-12 00:00:00-05:00  109.07  109.1100  108.9500  109.10  2839614.0   \n",
       "...                           ...       ...       ...     ...        ...   \n",
       "2021-11-19 00:00:00-05:00  114.49  114.5900  114.4150  114.45  4843203.0   \n",
       "2021-11-22 00:00:00-05:00  114.14  114.2300  113.8200  113.88  6216218.0   \n",
       "2021-11-23 00:00:00-05:00  113.71  113.7700  113.4500  113.45  5835080.0   \n",
       "2021-11-24 00:00:00-05:00  113.47  113.7250  113.3905  113.72  5959367.0   \n",
       "2021-11-26 00:00:00-05:00  114.28  114.5769  114.2000  114.54  2886169.0   \n",
       "\n",
       "                              SPY                                        \n",
       "                             open     high      low   close      volume  \n",
       "time                                                                     \n",
       "2017-12-06 00:00:00-05:00     NaN      NaN      NaN     NaN         NaN  \n",
       "2017-12-07 00:00:00-05:00  263.09  264.430  262.940  264.04  40146879.0  \n",
       "2017-12-08 00:00:00-05:00  265.01  265.520  264.720  265.49  41139547.0  \n",
       "2017-12-11 00:00:00-05:00  265.57  266.380  265.490  266.34  38104278.0  \n",
       "2017-12-12 00:00:00-05:00  266.59  267.320  266.345  266.79  46482549.0  \n",
       "...                           ...      ...      ...     ...         ...  \n",
       "2021-11-19 00:00:00-05:00  469.61  470.940  468.500  468.91  49009452.0  \n",
       "2021-11-22 00:00:00-05:00  470.81  473.540  467.350  467.53  61497941.0  \n",
       "2021-11-23 00:00:00-05:00  467.22  469.095  464.450  468.25  62851184.0  \n",
       "2021-11-24 00:00:00-05:00  466.06  469.570  465.190  469.37  54274217.0  \n",
       "2021-11-26 00:00:00-05:00  462.38  463.900  457.770  459.03  93783057.0  \n",
       "\n",
       "[1001 rows x 10 columns]"
      ]
     },
     "execution_count": 59,
     "metadata": {},
     "output_type": "execute_result"
    }
   ],
   "source": [
    "# Use the Alpaca get_barset function to make the API call to get the 3 years worth of pricing data\n",
    "# The tickers and timeframe parameters should have been set in Part 1 of this activity \n",
    "# The start and end dates should be updated with the information set above\n",
    "# Remember to add the df property to the end of the call so the response is returned as a DataFrame\n",
    "three_yr_data= alpaca.get_barset(tickers,timeframe,start=current_date.isoformat(),end=three_yr_before_today.isoformat(),limit=1000).df\n",
    "\n",
    "\n",
    "# Display both the first and last five rows of the DataFrame\n",
    "three_yr_data \n",
    " \n"
   ]
  },
  {
   "cell_type": "markdown",
   "metadata": {},
   "source": [
    "#### Step 2: Run a Monte Carlo simulation of 500 samples and 30 years for the 60/40 portfolio, and then plot the results."
   ]
  },
  {
   "cell_type": "code",
   "execution_count": 60,
   "metadata": {},
   "outputs": [],
   "source": [
    "# Configure the Monte Carlo simulation to forecast 30 years cumulative returns\n",
    "# The weights should be split 40% to AGG and 60% to SPY. FE: Create a list in the order it shows in the dataframe. \n",
    "# Run 500 samples.\n",
    "weights=[.40, .60]\n",
    "num_run=500\n",
    "num_trading_days=252*30\n",
    "# Review the simulation input data\n",
    "# YOUR CODE HERE\n"
   ]
  },
  {
   "cell_type": "code",
   "execution_count": 61,
   "metadata": {},
   "outputs": [
    {
     "name": "stdout",
     "output_type": "stream",
     "text": [
      "Running Monte Carlo simulation number 0.\n",
      "Running Monte Carlo simulation number 10.\n",
      "Running Monte Carlo simulation number 20.\n",
      "Running Monte Carlo simulation number 30.\n",
      "Running Monte Carlo simulation number 40.\n",
      "Running Monte Carlo simulation number 50.\n",
      "Running Monte Carlo simulation number 60.\n",
      "Running Monte Carlo simulation number 70.\n",
      "Running Monte Carlo simulation number 80.\n",
      "Running Monte Carlo simulation number 90.\n",
      "Running Monte Carlo simulation number 100.\n"
     ]
    },
    {
     "name": "stderr",
     "output_type": "stream",
     "text": [
      "/Users/fatihezgin/Desktop/Week5-Challange/MCForecastTools.py:117: PerformanceWarning: DataFrame is highly fragmented.  This is usually the result of calling `frame.insert` many times, which has poor performance.  Consider joining all columns at once using pd.concat(axis=1) instead.  To get a de-fragmented frame, use `newframe = frame.copy()`\n",
      "  portfolio_cumulative_returns[n] = (1 + sim_df.fillna(0)).cumprod()\n"
     ]
    },
    {
     "name": "stdout",
     "output_type": "stream",
     "text": [
      "Running Monte Carlo simulation number 110.\n",
      "Running Monte Carlo simulation number 120.\n",
      "Running Monte Carlo simulation number 130.\n",
      "Running Monte Carlo simulation number 140.\n",
      "Running Monte Carlo simulation number 150.\n",
      "Running Monte Carlo simulation number 160.\n",
      "Running Monte Carlo simulation number 170.\n",
      "Running Monte Carlo simulation number 180.\n",
      "Running Monte Carlo simulation number 190.\n",
      "Running Monte Carlo simulation number 200.\n",
      "Running Monte Carlo simulation number 210.\n",
      "Running Monte Carlo simulation number 220.\n",
      "Running Monte Carlo simulation number 230.\n",
      "Running Monte Carlo simulation number 240.\n",
      "Running Monte Carlo simulation number 250.\n",
      "Running Monte Carlo simulation number 260.\n",
      "Running Monte Carlo simulation number 270.\n",
      "Running Monte Carlo simulation number 280.\n",
      "Running Monte Carlo simulation number 290.\n",
      "Running Monte Carlo simulation number 300.\n",
      "Running Monte Carlo simulation number 310.\n",
      "Running Monte Carlo simulation number 320.\n",
      "Running Monte Carlo simulation number 330.\n",
      "Running Monte Carlo simulation number 340.\n",
      "Running Monte Carlo simulation number 350.\n",
      "Running Monte Carlo simulation number 360.\n",
      "Running Monte Carlo simulation number 370.\n",
      "Running Monte Carlo simulation number 380.\n",
      "Running Monte Carlo simulation number 390.\n",
      "Running Monte Carlo simulation number 400.\n",
      "Running Monte Carlo simulation number 410.\n",
      "Running Monte Carlo simulation number 420.\n",
      "Running Monte Carlo simulation number 430.\n",
      "Running Monte Carlo simulation number 440.\n",
      "Running Monte Carlo simulation number 450.\n",
      "Running Monte Carlo simulation number 460.\n",
      "Running Monte Carlo simulation number 470.\n",
      "Running Monte Carlo simulation number 480.\n",
      "Running Monte Carlo simulation number 490.\n"
     ]
    },
    {
     "data": {
      "text/html": [
       "<div>\n",
       "<style scoped>\n",
       "    .dataframe tbody tr th:only-of-type {\n",
       "        vertical-align: middle;\n",
       "    }\n",
       "\n",
       "    .dataframe tbody tr th {\n",
       "        vertical-align: top;\n",
       "    }\n",
       "\n",
       "    .dataframe thead th {\n",
       "        text-align: right;\n",
       "    }\n",
       "</style>\n",
       "<table border=\"1\" class=\"dataframe\">\n",
       "  <thead>\n",
       "    <tr style=\"text-align: right;\">\n",
       "      <th></th>\n",
       "      <th>0</th>\n",
       "      <th>1</th>\n",
       "      <th>2</th>\n",
       "      <th>3</th>\n",
       "      <th>4</th>\n",
       "      <th>5</th>\n",
       "      <th>6</th>\n",
       "      <th>7</th>\n",
       "      <th>8</th>\n",
       "      <th>9</th>\n",
       "      <th>...</th>\n",
       "      <th>490</th>\n",
       "      <th>491</th>\n",
       "      <th>492</th>\n",
       "      <th>493</th>\n",
       "      <th>494</th>\n",
       "      <th>495</th>\n",
       "      <th>496</th>\n",
       "      <th>497</th>\n",
       "      <th>498</th>\n",
       "      <th>499</th>\n",
       "    </tr>\n",
       "  </thead>\n",
       "  <tbody>\n",
       "    <tr>\n",
       "      <th>0</th>\n",
       "      <td>1.000000</td>\n",
       "      <td>1.000000</td>\n",
       "      <td>1.000000</td>\n",
       "      <td>1.000000</td>\n",
       "      <td>1.000000</td>\n",
       "      <td>1.000000</td>\n",
       "      <td>1.000000</td>\n",
       "      <td>1.000000</td>\n",
       "      <td>1.000000</td>\n",
       "      <td>1.000000</td>\n",
       "      <td>...</td>\n",
       "      <td>1.000000</td>\n",
       "      <td>1.000000</td>\n",
       "      <td>1.000000</td>\n",
       "      <td>1.000000</td>\n",
       "      <td>1.000000</td>\n",
       "      <td>1.000000</td>\n",
       "      <td>1.000000</td>\n",
       "      <td>1.000000</td>\n",
       "      <td>1.000000</td>\n",
       "      <td>1.000000</td>\n",
       "    </tr>\n",
       "    <tr>\n",
       "      <th>1</th>\n",
       "      <td>0.994239</td>\n",
       "      <td>0.999246</td>\n",
       "      <td>1.004627</td>\n",
       "      <td>0.995186</td>\n",
       "      <td>0.990661</td>\n",
       "      <td>0.994225</td>\n",
       "      <td>1.005894</td>\n",
       "      <td>0.996844</td>\n",
       "      <td>0.992740</td>\n",
       "      <td>0.998554</td>\n",
       "      <td>...</td>\n",
       "      <td>0.992098</td>\n",
       "      <td>1.003671</td>\n",
       "      <td>0.983610</td>\n",
       "      <td>1.001027</td>\n",
       "      <td>0.999792</td>\n",
       "      <td>1.008866</td>\n",
       "      <td>1.004514</td>\n",
       "      <td>1.005004</td>\n",
       "      <td>0.985848</td>\n",
       "      <td>0.992182</td>\n",
       "    </tr>\n",
       "    <tr>\n",
       "      <th>2</th>\n",
       "      <td>0.991287</td>\n",
       "      <td>0.996300</td>\n",
       "      <td>1.004035</td>\n",
       "      <td>0.992183</td>\n",
       "      <td>0.982700</td>\n",
       "      <td>0.996636</td>\n",
       "      <td>1.011184</td>\n",
       "      <td>0.999218</td>\n",
       "      <td>0.989290</td>\n",
       "      <td>0.989757</td>\n",
       "      <td>...</td>\n",
       "      <td>0.991610</td>\n",
       "      <td>1.013086</td>\n",
       "      <td>0.994058</td>\n",
       "      <td>1.014631</td>\n",
       "      <td>1.017568</td>\n",
       "      <td>1.008789</td>\n",
       "      <td>1.008459</td>\n",
       "      <td>1.005955</td>\n",
       "      <td>0.969011</td>\n",
       "      <td>0.991840</td>\n",
       "    </tr>\n",
       "    <tr>\n",
       "      <th>3</th>\n",
       "      <td>0.992298</td>\n",
       "      <td>0.995499</td>\n",
       "      <td>1.004907</td>\n",
       "      <td>0.996847</td>\n",
       "      <td>0.966233</td>\n",
       "      <td>1.002884</td>\n",
       "      <td>1.022062</td>\n",
       "      <td>1.007122</td>\n",
       "      <td>0.980050</td>\n",
       "      <td>0.998882</td>\n",
       "      <td>...</td>\n",
       "      <td>0.993374</td>\n",
       "      <td>1.023365</td>\n",
       "      <td>1.006313</td>\n",
       "      <td>1.013637</td>\n",
       "      <td>1.016903</td>\n",
       "      <td>1.021196</td>\n",
       "      <td>1.000480</td>\n",
       "      <td>1.001398</td>\n",
       "      <td>0.972677</td>\n",
       "      <td>0.995071</td>\n",
       "    </tr>\n",
       "    <tr>\n",
       "      <th>4</th>\n",
       "      <td>0.981527</td>\n",
       "      <td>1.009547</td>\n",
       "      <td>1.002355</td>\n",
       "      <td>1.006350</td>\n",
       "      <td>0.974357</td>\n",
       "      <td>1.005088</td>\n",
       "      <td>1.020111</td>\n",
       "      <td>1.002263</td>\n",
       "      <td>0.978440</td>\n",
       "      <td>1.000899</td>\n",
       "      <td>...</td>\n",
       "      <td>0.998238</td>\n",
       "      <td>1.027442</td>\n",
       "      <td>1.008392</td>\n",
       "      <td>1.005277</td>\n",
       "      <td>1.025107</td>\n",
       "      <td>1.023899</td>\n",
       "      <td>1.008732</td>\n",
       "      <td>0.990566</td>\n",
       "      <td>0.964191</td>\n",
       "      <td>0.982705</td>\n",
       "    </tr>\n",
       "    <tr>\n",
       "      <th>...</th>\n",
       "      <td>...</td>\n",
       "      <td>...</td>\n",
       "      <td>...</td>\n",
       "      <td>...</td>\n",
       "      <td>...</td>\n",
       "      <td>...</td>\n",
       "      <td>...</td>\n",
       "      <td>...</td>\n",
       "      <td>...</td>\n",
       "      <td>...</td>\n",
       "      <td>...</td>\n",
       "      <td>...</td>\n",
       "      <td>...</td>\n",
       "      <td>...</td>\n",
       "      <td>...</td>\n",
       "      <td>...</td>\n",
       "      <td>...</td>\n",
       "      <td>...</td>\n",
       "      <td>...</td>\n",
       "      <td>...</td>\n",
       "      <td>...</td>\n",
       "    </tr>\n",
       "    <tr>\n",
       "      <th>7556</th>\n",
       "      <td>31.802450</td>\n",
       "      <td>13.223228</td>\n",
       "      <td>81.359987</td>\n",
       "      <td>70.281993</td>\n",
       "      <td>37.999616</td>\n",
       "      <td>16.107939</td>\n",
       "      <td>42.007490</td>\n",
       "      <td>28.234817</td>\n",
       "      <td>40.746122</td>\n",
       "      <td>16.430459</td>\n",
       "      <td>...</td>\n",
       "      <td>17.030546</td>\n",
       "      <td>18.321702</td>\n",
       "      <td>17.128109</td>\n",
       "      <td>8.389960</td>\n",
       "      <td>7.761135</td>\n",
       "      <td>76.537207</td>\n",
       "      <td>7.728258</td>\n",
       "      <td>42.489754</td>\n",
       "      <td>32.601299</td>\n",
       "      <td>20.778352</td>\n",
       "    </tr>\n",
       "    <tr>\n",
       "      <th>7557</th>\n",
       "      <td>31.630243</td>\n",
       "      <td>13.312315</td>\n",
       "      <td>81.730786</td>\n",
       "      <td>70.560056</td>\n",
       "      <td>37.326595</td>\n",
       "      <td>16.286091</td>\n",
       "      <td>42.285505</td>\n",
       "      <td>28.129957</td>\n",
       "      <td>41.176598</td>\n",
       "      <td>16.342335</td>\n",
       "      <td>...</td>\n",
       "      <td>16.879122</td>\n",
       "      <td>18.511533</td>\n",
       "      <td>17.155764</td>\n",
       "      <td>8.355875</td>\n",
       "      <td>7.744209</td>\n",
       "      <td>76.577897</td>\n",
       "      <td>7.678055</td>\n",
       "      <td>42.285801</td>\n",
       "      <td>32.682610</td>\n",
       "      <td>20.796658</td>\n",
       "    </tr>\n",
       "    <tr>\n",
       "      <th>7558</th>\n",
       "      <td>31.477711</td>\n",
       "      <td>13.532649</td>\n",
       "      <td>81.926030</td>\n",
       "      <td>70.498840</td>\n",
       "      <td>37.529719</td>\n",
       "      <td>16.416187</td>\n",
       "      <td>42.212538</td>\n",
       "      <td>28.258762</td>\n",
       "      <td>41.532822</td>\n",
       "      <td>16.287283</td>\n",
       "      <td>...</td>\n",
       "      <td>17.074310</td>\n",
       "      <td>18.499827</td>\n",
       "      <td>17.180657</td>\n",
       "      <td>8.361429</td>\n",
       "      <td>7.725482</td>\n",
       "      <td>77.219754</td>\n",
       "      <td>7.635449</td>\n",
       "      <td>42.131037</td>\n",
       "      <td>32.611114</td>\n",
       "      <td>20.967531</td>\n",
       "    </tr>\n",
       "    <tr>\n",
       "      <th>7559</th>\n",
       "      <td>31.749077</td>\n",
       "      <td>13.535661</td>\n",
       "      <td>81.495005</td>\n",
       "      <td>69.573150</td>\n",
       "      <td>36.972840</td>\n",
       "      <td>16.418517</td>\n",
       "      <td>42.642676</td>\n",
       "      <td>28.186457</td>\n",
       "      <td>41.699154</td>\n",
       "      <td>16.409764</td>\n",
       "      <td>...</td>\n",
       "      <td>17.344787</td>\n",
       "      <td>18.404262</td>\n",
       "      <td>17.225859</td>\n",
       "      <td>8.310752</td>\n",
       "      <td>7.659114</td>\n",
       "      <td>77.846017</td>\n",
       "      <td>7.614090</td>\n",
       "      <td>42.454988</td>\n",
       "      <td>32.327345</td>\n",
       "      <td>21.176747</td>\n",
       "    </tr>\n",
       "    <tr>\n",
       "      <th>7560</th>\n",
       "      <td>31.833499</td>\n",
       "      <td>13.445940</td>\n",
       "      <td>81.751465</td>\n",
       "      <td>69.582060</td>\n",
       "      <td>36.889468</td>\n",
       "      <td>16.308240</td>\n",
       "      <td>42.732671</td>\n",
       "      <td>27.865279</td>\n",
       "      <td>41.402636</td>\n",
       "      <td>16.444166</td>\n",
       "      <td>...</td>\n",
       "      <td>17.092879</td>\n",
       "      <td>18.342837</td>\n",
       "      <td>17.191404</td>\n",
       "      <td>8.219386</td>\n",
       "      <td>7.631623</td>\n",
       "      <td>78.701400</td>\n",
       "      <td>7.670868</td>\n",
       "      <td>42.042057</td>\n",
       "      <td>32.669828</td>\n",
       "      <td>21.116295</td>\n",
       "    </tr>\n",
       "  </tbody>\n",
       "</table>\n",
       "<p>7561 rows × 500 columns</p>\n",
       "</div>"
      ],
      "text/plain": [
       "            0          1          2          3          4          5    \\\n",
       "0      1.000000   1.000000   1.000000   1.000000   1.000000   1.000000   \n",
       "1      0.994239   0.999246   1.004627   0.995186   0.990661   0.994225   \n",
       "2      0.991287   0.996300   1.004035   0.992183   0.982700   0.996636   \n",
       "3      0.992298   0.995499   1.004907   0.996847   0.966233   1.002884   \n",
       "4      0.981527   1.009547   1.002355   1.006350   0.974357   1.005088   \n",
       "...         ...        ...        ...        ...        ...        ...   \n",
       "7556  31.802450  13.223228  81.359987  70.281993  37.999616  16.107939   \n",
       "7557  31.630243  13.312315  81.730786  70.560056  37.326595  16.286091   \n",
       "7558  31.477711  13.532649  81.926030  70.498840  37.529719  16.416187   \n",
       "7559  31.749077  13.535661  81.495005  69.573150  36.972840  16.418517   \n",
       "7560  31.833499  13.445940  81.751465  69.582060  36.889468  16.308240   \n",
       "\n",
       "            6          7          8          9    ...        490        491  \\\n",
       "0      1.000000   1.000000   1.000000   1.000000  ...   1.000000   1.000000   \n",
       "1      1.005894   0.996844   0.992740   0.998554  ...   0.992098   1.003671   \n",
       "2      1.011184   0.999218   0.989290   0.989757  ...   0.991610   1.013086   \n",
       "3      1.022062   1.007122   0.980050   0.998882  ...   0.993374   1.023365   \n",
       "4      1.020111   1.002263   0.978440   1.000899  ...   0.998238   1.027442   \n",
       "...         ...        ...        ...        ...  ...        ...        ...   \n",
       "7556  42.007490  28.234817  40.746122  16.430459  ...  17.030546  18.321702   \n",
       "7557  42.285505  28.129957  41.176598  16.342335  ...  16.879122  18.511533   \n",
       "7558  42.212538  28.258762  41.532822  16.287283  ...  17.074310  18.499827   \n",
       "7559  42.642676  28.186457  41.699154  16.409764  ...  17.344787  18.404262   \n",
       "7560  42.732671  27.865279  41.402636  16.444166  ...  17.092879  18.342837   \n",
       "\n",
       "            492       493       494        495       496        497  \\\n",
       "0      1.000000  1.000000  1.000000   1.000000  1.000000   1.000000   \n",
       "1      0.983610  1.001027  0.999792   1.008866  1.004514   1.005004   \n",
       "2      0.994058  1.014631  1.017568   1.008789  1.008459   1.005955   \n",
       "3      1.006313  1.013637  1.016903   1.021196  1.000480   1.001398   \n",
       "4      1.008392  1.005277  1.025107   1.023899  1.008732   0.990566   \n",
       "...         ...       ...       ...        ...       ...        ...   \n",
       "7556  17.128109  8.389960  7.761135  76.537207  7.728258  42.489754   \n",
       "7557  17.155764  8.355875  7.744209  76.577897  7.678055  42.285801   \n",
       "7558  17.180657  8.361429  7.725482  77.219754  7.635449  42.131037   \n",
       "7559  17.225859  8.310752  7.659114  77.846017  7.614090  42.454988   \n",
       "7560  17.191404  8.219386  7.631623  78.701400  7.670868  42.042057   \n",
       "\n",
       "            498        499  \n",
       "0      1.000000   1.000000  \n",
       "1      0.985848   0.992182  \n",
       "2      0.969011   0.991840  \n",
       "3      0.972677   0.995071  \n",
       "4      0.964191   0.982705  \n",
       "...         ...        ...  \n",
       "7556  32.601299  20.778352  \n",
       "7557  32.682610  20.796658  \n",
       "7558  32.611114  20.967531  \n",
       "7559  32.327345  21.176747  \n",
       "7560  32.669828  21.116295  \n",
       "\n",
       "[7561 rows x 500 columns]"
      ]
     },
     "execution_count": 61,
     "metadata": {},
     "output_type": "execute_result"
    }
   ],
   "source": [
    "# Run the Monte Carlo simulation to forecast 30 years cumulative returns\n",
    "MC_thirty_year=MCSimulation(portfolio_data=three_yr_data, weights=weights, num_simulation=num_run, num_trading_days=num_trading_days) \n",
    "MC_thirty_year.portfolio_data.dropna().copy()\n",
    "MC_thirty_year.calc_cumulative_return()"
   ]
  },
  {
   "cell_type": "code",
   "execution_count": 62,
   "metadata": {},
   "outputs": [
    {
     "data": {
      "image/png": "[encoded data removed]",
      "text/plain": [
       "<Figure size 432x288 with 1 Axes>"
      ]
     },
     "metadata": {
      "needs_background": "light"
     },
     "output_type": "display_data"
    }
   ],
   "source": [
    "# Visualize the 30-year Monte Carlo simulation by creating an\n",
    "# overlay line plot\n",
    "MC_sim_line_plot=MC_thirty_year.plot_simulation()\n",
    "MC_sim_line_plot.get_figure().savefig(\"MC_thirty_sim_plot.png\", bbox_inches=\"tight\")\n"
   ]
  },
  {
   "cell_type": "markdown",
   "metadata": {},
   "source": [
    "#### Step 3: Plot the probability distribution of the Monte Carlo simulation."
   ]
  },
  {
   "cell_type": "code",
   "execution_count": 63,
   "metadata": {},
   "outputs": [
    {
     "data": {
      "image/png": "[encoded data removed]",
      "text/plain": [
       "<Figure size 432x288 with 1 Axes>"
      ]
     },
     "metadata": {
      "needs_background": "light"
     },
     "output_type": "display_data"
    }
   ],
   "source": [
    "# Visualize the probability distribution of the 30-year Monte Carlo simulation \n",
    "# by plotting a histogram\n",
    "MC_sim_dist_plot=MC_thirty_year.plot_distribution()\n"
   ]
  },
  {
   "cell_type": "markdown",
   "metadata": {},
   "source": [
    "#### Step 4: Generate the summary statistics for the Monte Carlo simulation."
   ]
  },
  {
   "cell_type": "code",
   "execution_count": 80,
   "metadata": {},
   "outputs": [
    {
     "name": "stdout",
     "output_type": "stream",
     "text": [
      "count           500.000000\n",
      "mean             21.640602\n",
      "std              16.388754\n",
      "min               2.615847\n",
      "25%              10.687574\n",
      "50%              16.847274\n",
      "75%              28.247703\n",
      "max             116.826598\n",
      "95% CI Lower      4.196655\n",
      "95% CI Upper     71.779553\n",
      "Name: 7560, dtype: float64\n"
     ]
    }
   ],
   "source": [
    "# Generate summary statistics from the 30-year Monte Carlo simulation results\n",
    "# Save the results as a variable\n",
    "thirty_year_stats=MC_thirty_year.summarize_cumulative_return()\n",
    "\n",
    "\n",
    "# Review the 30-year Monte Carlo summary statistics\n",
    "print(thirty_year_stats)"
   ]
  },
  {
   "cell_type": "markdown",
   "metadata": {},
   "source": [
    "### Analyze the Retirement Portfolio Forecasts\n",
    "\n",
    "Using the current value of only the stock and bond portion of the member's portfolio and the summary statistics that you generated from the Monte Carlo simulation, answer the following question in your Jupyter notebook:\n",
    "\n",
    "-  What are the lower and upper bounds for the expected value of the portfolio with a 95% confidence interval?\n"
   ]
  },
  {
   "cell_type": "code",
   "execution_count": 65,
   "metadata": {},
   "outputs": [
    {
     "name": "stdout",
     "output_type": "stream",
     "text": [
      "73401\n"
     ]
    }
   ],
   "source": [
    "# Print the current balance of the stock and bond portion of the members portfolio\n",
    "print(round(total_stocks_bonds))"
   ]
  },
  {
   "cell_type": "code",
   "execution_count": 81,
   "metadata": {},
   "outputs": [
    {
     "name": "stdout",
     "output_type": "stream",
     "text": [
      "This portfolio is expected to be worth between 308040$ and 5268713$ within a 95% confidence interval in thirty years from today.\n"
     ]
    }
   ],
   "source": [
    "# Use the lower and upper `95%` confidence intervals to calculate the range of the possible outcomes for the current stock/bond portfolio\n",
    "ci_lower_thirty_cumulative_return = round(thirty_year_stats[8]*total_stocks_bonds)\n",
    "ci_upper_thirty_cumulative_return = round(thirty_year_stats[9]*total_stocks_bonds)\n",
    "\n",
    "\n",
    "# Print the result of your calculations\n",
    "print(f'This portfolio is expected to be worth between {ci_lower_thirty_cumulative_return}$ and {ci_upper_thirty_cumulative_return}$ within a 95% confidence interval in thirty years from today.')\n"
   ]
  },
  {
   "cell_type": "markdown",
   "metadata": {},
   "source": [
    "### Forecast Cumulative Returns in 10 Years\n",
    "\n",
    "The CTO of the credit union is impressed with your work on these planning tools but wonders if 30 years is a long time to wait until retirement. So, your next task is to adjust the retirement portfolio and run a new Monte Carlo simulation to find out if the changes will allow members to retire earlier.\n",
    "\n",
    "For this new Monte Carlo simulation, do the following: \n",
    "\n",
    "- Forecast the cumulative returns for 10 years from now. Because of the shortened investment horizon (30 years to 10 years), the portfolio needs to invest more heavily in the riskier asset&mdash;that is, stock&mdash;to help accumulate wealth for retirement. \n",
    "\n",
    "- Adjust the weights of the retirement portfolio so that the composition for the Monte Carlo simulation consists of 20% bonds and 80% stocks. \n",
    "\n",
    "- Run the simulation over 500 samples, and use the same data that the API call to Alpaca generated.\n",
    "\n",
    "- Based on the new Monte Carlo simulation, answer the following questions in your Jupyter notebook:\n",
    "\n",
    "    - Using the current value of only the stock and bond portion of the member's portfolio and the summary statistics that you generated from the new Monte Carlo simulation, what are the lower and upper bounds for the expected value of the portfolio (with the new weights) with a 95% confidence interval?\n",
    "\n",
    "    - Will weighting the portfolio more heavily toward stocks allow the credit union members to retire after only 10 years?\n"
   ]
  },
  {
   "cell_type": "code",
   "execution_count": 67,
   "metadata": {},
   "outputs": [
    {
     "name": "stdout",
     "output_type": "stream",
     "text": [
      "Running Monte Carlo simulation number 0.\n",
      "Running Monte Carlo simulation number 10.\n",
      "Running Monte Carlo simulation number 20.\n",
      "Running Monte Carlo simulation number 30.\n",
      "Running Monte Carlo simulation number 40.\n",
      "Running Monte Carlo simulation number 50.\n",
      "Running Monte Carlo simulation number 60.\n",
      "Running Monte Carlo simulation number 70.\n",
      "Running Monte Carlo simulation number 80.\n",
      "Running Monte Carlo simulation number 90.\n",
      "Running Monte Carlo simulation number 100.\n"
     ]
    },
    {
     "name": "stderr",
     "output_type": "stream",
     "text": [
      "/Users/fatihezgin/Desktop/Week5-Challange/MCForecastTools.py:117: PerformanceWarning: DataFrame is highly fragmented.  This is usually the result of calling `frame.insert` many times, which has poor performance.  Consider joining all columns at once using pd.concat(axis=1) instead.  To get a de-fragmented frame, use `newframe = frame.copy()`\n",
      "  portfolio_cumulative_returns[n] = (1 + sim_df.fillna(0)).cumprod()\n"
     ]
    },
    {
     "name": "stdout",
     "output_type": "stream",
     "text": [
      "Running Monte Carlo simulation number 110.\n",
      "Running Monte Carlo simulation number 120.\n",
      "Running Monte Carlo simulation number 130.\n",
      "Running Monte Carlo simulation number 140.\n",
      "Running Monte Carlo simulation number 150.\n",
      "Running Monte Carlo simulation number 160.\n",
      "Running Monte Carlo simulation number 170.\n",
      "Running Monte Carlo simulation number 180.\n",
      "Running Monte Carlo simulation number 190.\n",
      "Running Monte Carlo simulation number 200.\n",
      "Running Monte Carlo simulation number 210.\n",
      "Running Monte Carlo simulation number 220.\n",
      "Running Monte Carlo simulation number 230.\n",
      "Running Monte Carlo simulation number 240.\n",
      "Running Monte Carlo simulation number 250.\n",
      "Running Monte Carlo simulation number 260.\n",
      "Running Monte Carlo simulation number 270.\n",
      "Running Monte Carlo simulation number 280.\n",
      "Running Monte Carlo simulation number 290.\n",
      "Running Monte Carlo simulation number 300.\n",
      "Running Monte Carlo simulation number 310.\n",
      "Running Monte Carlo simulation number 320.\n",
      "Running Monte Carlo simulation number 330.\n",
      "Running Monte Carlo simulation number 340.\n",
      "Running Monte Carlo simulation number 350.\n",
      "Running Monte Carlo simulation number 360.\n",
      "Running Monte Carlo simulation number 370.\n",
      "Running Monte Carlo simulation number 380.\n",
      "Running Monte Carlo simulation number 390.\n",
      "Running Monte Carlo simulation number 400.\n",
      "Running Monte Carlo simulation number 410.\n",
      "Running Monte Carlo simulation number 420.\n",
      "Running Monte Carlo simulation number 430.\n",
      "Running Monte Carlo simulation number 440.\n",
      "Running Monte Carlo simulation number 450.\n",
      "Running Monte Carlo simulation number 460.\n",
      "Running Monte Carlo simulation number 470.\n",
      "Running Monte Carlo simulation number 480.\n",
      "Running Monte Carlo simulation number 490.\n"
     ]
    },
    {
     "data": {
      "text/html": [
       "<div>\n",
       "<style scoped>\n",
       "    .dataframe tbody tr th:only-of-type {\n",
       "        vertical-align: middle;\n",
       "    }\n",
       "\n",
       "    .dataframe tbody tr th {\n",
       "        vertical-align: top;\n",
       "    }\n",
       "\n",
       "    .dataframe thead th {\n",
       "        text-align: right;\n",
       "    }\n",
       "</style>\n",
       "<table border=\"1\" class=\"dataframe\">\n",
       "  <thead>\n",
       "    <tr style=\"text-align: right;\">\n",
       "      <th></th>\n",
       "      <th>0</th>\n",
       "      <th>1</th>\n",
       "      <th>2</th>\n",
       "      <th>3</th>\n",
       "      <th>4</th>\n",
       "      <th>5</th>\n",
       "      <th>6</th>\n",
       "      <th>7</th>\n",
       "      <th>8</th>\n",
       "      <th>9</th>\n",
       "      <th>...</th>\n",
       "      <th>490</th>\n",
       "      <th>491</th>\n",
       "      <th>492</th>\n",
       "      <th>493</th>\n",
       "      <th>494</th>\n",
       "      <th>495</th>\n",
       "      <th>496</th>\n",
       "      <th>497</th>\n",
       "      <th>498</th>\n",
       "      <th>499</th>\n",
       "    </tr>\n",
       "  </thead>\n",
       "  <tbody>\n",
       "    <tr>\n",
       "      <th>0</th>\n",
       "      <td>1.000000</td>\n",
       "      <td>1.000000</td>\n",
       "      <td>1.000000</td>\n",
       "      <td>1.000000</td>\n",
       "      <td>1.000000</td>\n",
       "      <td>1.000000</td>\n",
       "      <td>1.000000</td>\n",
       "      <td>1.000000</td>\n",
       "      <td>1.000000</td>\n",
       "      <td>1.000000</td>\n",
       "      <td>...</td>\n",
       "      <td>1.000000</td>\n",
       "      <td>1.000000</td>\n",
       "      <td>1.000000</td>\n",
       "      <td>1.000000</td>\n",
       "      <td>1.000000</td>\n",
       "      <td>1.000000</td>\n",
       "      <td>1.000000</td>\n",
       "      <td>1.000000</td>\n",
       "      <td>1.000000</td>\n",
       "      <td>1.000000</td>\n",
       "    </tr>\n",
       "    <tr>\n",
       "      <th>1</th>\n",
       "      <td>0.998843</td>\n",
       "      <td>0.999191</td>\n",
       "      <td>0.999197</td>\n",
       "      <td>1.005214</td>\n",
       "      <td>1.004474</td>\n",
       "      <td>0.999275</td>\n",
       "      <td>1.019769</td>\n",
       "      <td>0.980214</td>\n",
       "      <td>0.995608</td>\n",
       "      <td>1.009342</td>\n",
       "      <td>...</td>\n",
       "      <td>1.002169</td>\n",
       "      <td>1.008530</td>\n",
       "      <td>0.989700</td>\n",
       "      <td>1.012181</td>\n",
       "      <td>1.011577</td>\n",
       "      <td>0.987194</td>\n",
       "      <td>1.002857</td>\n",
       "      <td>0.986413</td>\n",
       "      <td>1.018253</td>\n",
       "      <td>0.995024</td>\n",
       "    </tr>\n",
       "    <tr>\n",
       "      <th>2</th>\n",
       "      <td>1.011769</td>\n",
       "      <td>1.022435</td>\n",
       "      <td>1.000746</td>\n",
       "      <td>1.005475</td>\n",
       "      <td>1.006998</td>\n",
       "      <td>0.989093</td>\n",
       "      <td>1.024918</td>\n",
       "      <td>0.993912</td>\n",
       "      <td>0.968733</td>\n",
       "      <td>1.000123</td>\n",
       "      <td>...</td>\n",
       "      <td>1.020041</td>\n",
       "      <td>0.990008</td>\n",
       "      <td>0.968609</td>\n",
       "      <td>0.995735</td>\n",
       "      <td>1.011797</td>\n",
       "      <td>0.985615</td>\n",
       "      <td>1.004207</td>\n",
       "      <td>0.982106</td>\n",
       "      <td>1.008547</td>\n",
       "      <td>0.983062</td>\n",
       "    </tr>\n",
       "    <tr>\n",
       "      <th>3</th>\n",
       "      <td>1.016022</td>\n",
       "      <td>1.027389</td>\n",
       "      <td>1.008755</td>\n",
       "      <td>0.993752</td>\n",
       "      <td>1.019355</td>\n",
       "      <td>1.005441</td>\n",
       "      <td>1.034249</td>\n",
       "      <td>0.988094</td>\n",
       "      <td>0.961633</td>\n",
       "      <td>0.989868</td>\n",
       "      <td>...</td>\n",
       "      <td>0.995901</td>\n",
       "      <td>0.966490</td>\n",
       "      <td>0.950402</td>\n",
       "      <td>1.009355</td>\n",
       "      <td>1.020687</td>\n",
       "      <td>0.997597</td>\n",
       "      <td>1.017094</td>\n",
       "      <td>0.975278</td>\n",
       "      <td>0.992235</td>\n",
       "      <td>0.996005</td>\n",
       "    </tr>\n",
       "    <tr>\n",
       "      <th>4</th>\n",
       "      <td>1.026863</td>\n",
       "      <td>1.030642</td>\n",
       "      <td>1.022626</td>\n",
       "      <td>0.996091</td>\n",
       "      <td>1.023546</td>\n",
       "      <td>1.036103</td>\n",
       "      <td>1.016530</td>\n",
       "      <td>0.965016</td>\n",
       "      <td>0.962225</td>\n",
       "      <td>0.976902</td>\n",
       "      <td>...</td>\n",
       "      <td>0.995385</td>\n",
       "      <td>0.967877</td>\n",
       "      <td>0.935307</td>\n",
       "      <td>1.016938</td>\n",
       "      <td>1.031197</td>\n",
       "      <td>1.008464</td>\n",
       "      <td>1.026885</td>\n",
       "      <td>0.979075</td>\n",
       "      <td>0.982921</td>\n",
       "      <td>0.989089</td>\n",
       "    </tr>\n",
       "    <tr>\n",
       "      <th>...</th>\n",
       "      <td>...</td>\n",
       "      <td>...</td>\n",
       "      <td>...</td>\n",
       "      <td>...</td>\n",
       "      <td>...</td>\n",
       "      <td>...</td>\n",
       "      <td>...</td>\n",
       "      <td>...</td>\n",
       "      <td>...</td>\n",
       "      <td>...</td>\n",
       "      <td>...</td>\n",
       "      <td>...</td>\n",
       "      <td>...</td>\n",
       "      <td>...</td>\n",
       "      <td>...</td>\n",
       "      <td>...</td>\n",
       "      <td>...</td>\n",
       "      <td>...</td>\n",
       "      <td>...</td>\n",
       "      <td>...</td>\n",
       "      <td>...</td>\n",
       "    </tr>\n",
       "    <tr>\n",
       "      <th>2516</th>\n",
       "      <td>6.445942</td>\n",
       "      <td>1.491541</td>\n",
       "      <td>7.140232</td>\n",
       "      <td>2.776628</td>\n",
       "      <td>1.331426</td>\n",
       "      <td>2.074144</td>\n",
       "      <td>8.191997</td>\n",
       "      <td>5.105559</td>\n",
       "      <td>4.843910</td>\n",
       "      <td>3.920311</td>\n",
       "      <td>...</td>\n",
       "      <td>1.456066</td>\n",
       "      <td>3.413538</td>\n",
       "      <td>1.260627</td>\n",
       "      <td>8.100341</td>\n",
       "      <td>3.810458</td>\n",
       "      <td>3.219058</td>\n",
       "      <td>5.514899</td>\n",
       "      <td>2.927072</td>\n",
       "      <td>2.493403</td>\n",
       "      <td>2.196535</td>\n",
       "    </tr>\n",
       "    <tr>\n",
       "      <th>2517</th>\n",
       "      <td>6.436752</td>\n",
       "      <td>1.514389</td>\n",
       "      <td>7.165976</td>\n",
       "      <td>2.797336</td>\n",
       "      <td>1.323751</td>\n",
       "      <td>2.101660</td>\n",
       "      <td>8.266052</td>\n",
       "      <td>5.102849</td>\n",
       "      <td>4.871319</td>\n",
       "      <td>3.951721</td>\n",
       "      <td>...</td>\n",
       "      <td>1.470518</td>\n",
       "      <td>3.489557</td>\n",
       "      <td>1.261793</td>\n",
       "      <td>8.229632</td>\n",
       "      <td>3.774768</td>\n",
       "      <td>3.251929</td>\n",
       "      <td>5.529238</td>\n",
       "      <td>2.918747</td>\n",
       "      <td>2.499325</td>\n",
       "      <td>2.212242</td>\n",
       "    </tr>\n",
       "    <tr>\n",
       "      <th>2518</th>\n",
       "      <td>6.451963</td>\n",
       "      <td>1.495890</td>\n",
       "      <td>7.098963</td>\n",
       "      <td>2.791936</td>\n",
       "      <td>1.327329</td>\n",
       "      <td>2.086706</td>\n",
       "      <td>8.251756</td>\n",
       "      <td>5.068300</td>\n",
       "      <td>4.804926</td>\n",
       "      <td>4.019276</td>\n",
       "      <td>...</td>\n",
       "      <td>1.473176</td>\n",
       "      <td>3.460496</td>\n",
       "      <td>1.271060</td>\n",
       "      <td>8.238672</td>\n",
       "      <td>3.840296</td>\n",
       "      <td>3.227071</td>\n",
       "      <td>5.554434</td>\n",
       "      <td>2.841265</td>\n",
       "      <td>2.533005</td>\n",
       "      <td>2.226059</td>\n",
       "    </tr>\n",
       "    <tr>\n",
       "      <th>2519</th>\n",
       "      <td>6.390216</td>\n",
       "      <td>1.470437</td>\n",
       "      <td>7.223545</td>\n",
       "      <td>2.838430</td>\n",
       "      <td>1.326240</td>\n",
       "      <td>2.078702</td>\n",
       "      <td>8.079212</td>\n",
       "      <td>4.927472</td>\n",
       "      <td>4.739101</td>\n",
       "      <td>4.000407</td>\n",
       "      <td>...</td>\n",
       "      <td>1.495744</td>\n",
       "      <td>3.406544</td>\n",
       "      <td>1.277774</td>\n",
       "      <td>8.228978</td>\n",
       "      <td>3.820234</td>\n",
       "      <td>3.218892</td>\n",
       "      <td>5.573336</td>\n",
       "      <td>2.858503</td>\n",
       "      <td>2.497621</td>\n",
       "      <td>2.229652</td>\n",
       "    </tr>\n",
       "    <tr>\n",
       "      <th>2520</th>\n",
       "      <td>6.458625</td>\n",
       "      <td>1.469473</td>\n",
       "      <td>7.250802</td>\n",
       "      <td>2.831971</td>\n",
       "      <td>1.337956</td>\n",
       "      <td>2.068439</td>\n",
       "      <td>8.006701</td>\n",
       "      <td>4.813956</td>\n",
       "      <td>4.616423</td>\n",
       "      <td>4.000189</td>\n",
       "      <td>...</td>\n",
       "      <td>1.506754</td>\n",
       "      <td>3.436735</td>\n",
       "      <td>1.274897</td>\n",
       "      <td>8.188449</td>\n",
       "      <td>3.842292</td>\n",
       "      <td>3.255768</td>\n",
       "      <td>5.646472</td>\n",
       "      <td>2.884375</td>\n",
       "      <td>2.498331</td>\n",
       "      <td>2.204541</td>\n",
       "    </tr>\n",
       "  </tbody>\n",
       "</table>\n",
       "<p>2521 rows × 500 columns</p>\n",
       "</div>"
      ],
      "text/plain": [
       "           0         1         2         3         4         5         6    \\\n",
       "0     1.000000  1.000000  1.000000  1.000000  1.000000  1.000000  1.000000   \n",
       "1     0.998843  0.999191  0.999197  1.005214  1.004474  0.999275  1.019769   \n",
       "2     1.011769  1.022435  1.000746  1.005475  1.006998  0.989093  1.024918   \n",
       "3     1.016022  1.027389  1.008755  0.993752  1.019355  1.005441  1.034249   \n",
       "4     1.026863  1.030642  1.022626  0.996091  1.023546  1.036103  1.016530   \n",
       "...        ...       ...       ...       ...       ...       ...       ...   \n",
       "2516  6.445942  1.491541  7.140232  2.776628  1.331426  2.074144  8.191997   \n",
       "2517  6.436752  1.514389  7.165976  2.797336  1.323751  2.101660  8.266052   \n",
       "2518  6.451963  1.495890  7.098963  2.791936  1.327329  2.086706  8.251756   \n",
       "2519  6.390216  1.470437  7.223545  2.838430  1.326240  2.078702  8.079212   \n",
       "2520  6.458625  1.469473  7.250802  2.831971  1.337956  2.068439  8.006701   \n",
       "\n",
       "           7         8         9    ...       490       491       492  \\\n",
       "0     1.000000  1.000000  1.000000  ...  1.000000  1.000000  1.000000   \n",
       "1     0.980214  0.995608  1.009342  ...  1.002169  1.008530  0.989700   \n",
       "2     0.993912  0.968733  1.000123  ...  1.020041  0.990008  0.968609   \n",
       "3     0.988094  0.961633  0.989868  ...  0.995901  0.966490  0.950402   \n",
       "4     0.965016  0.962225  0.976902  ...  0.995385  0.967877  0.935307   \n",
       "...        ...       ...       ...  ...       ...       ...       ...   \n",
       "2516  5.105559  4.843910  3.920311  ...  1.456066  3.413538  1.260627   \n",
       "2517  5.102849  4.871319  3.951721  ...  1.470518  3.489557  1.261793   \n",
       "2518  5.068300  4.804926  4.019276  ...  1.473176  3.460496  1.271060   \n",
       "2519  4.927472  4.739101  4.000407  ...  1.495744  3.406544  1.277774   \n",
       "2520  4.813956  4.616423  4.000189  ...  1.506754  3.436735  1.274897   \n",
       "\n",
       "           493       494       495       496       497       498       499  \n",
       "0     1.000000  1.000000  1.000000  1.000000  1.000000  1.000000  1.000000  \n",
       "1     1.012181  1.011577  0.987194  1.002857  0.986413  1.018253  0.995024  \n",
       "2     0.995735  1.011797  0.985615  1.004207  0.982106  1.008547  0.983062  \n",
       "3     1.009355  1.020687  0.997597  1.017094  0.975278  0.992235  0.996005  \n",
       "4     1.016938  1.031197  1.008464  1.026885  0.979075  0.982921  0.989089  \n",
       "...        ...       ...       ...       ...       ...       ...       ...  \n",
       "2516  8.100341  3.810458  3.219058  5.514899  2.927072  2.493403  2.196535  \n",
       "2517  8.229632  3.774768  3.251929  5.529238  2.918747  2.499325  2.212242  \n",
       "2518  8.238672  3.840296  3.227071  5.554434  2.841265  2.533005  2.226059  \n",
       "2519  8.228978  3.820234  3.218892  5.573336  2.858503  2.497621  2.229652  \n",
       "2520  8.188449  3.842292  3.255768  5.646472  2.884375  2.498331  2.204541  \n",
       "\n",
       "[2521 rows x 500 columns]"
      ]
     },
     "execution_count": 67,
     "metadata": {},
     "output_type": "execute_result"
    }
   ],
   "source": [
    "# Configure a Monte Carlo simulation to forecast 10 years cumulative returns\n",
    "# The weights should be split 20% to AGG and 80% to SPY.\n",
    "# Run 500 samples.\n",
    "MC_Ten_Year=MCSimulation(portfolio_data=three_yr_data, weights=[.20,.80],num_simulation=500, num_trading_days=252*10)\n",
    "# Review the simulation input data\n",
    "MC_Ten_Year.portfolio_data.dropna().copy()\n",
    "MC_Ten_Year.calc_cumulative_return()"
   ]
  },
  {
   "cell_type": "code",
   "execution_count": 68,
   "metadata": {},
   "outputs": [
    {
     "name": "stdout",
     "output_type": "stream",
     "text": [
      "Running Monte Carlo simulation number 0.\n",
      "Running Monte Carlo simulation number 10.\n",
      "Running Monte Carlo simulation number 20.\n",
      "Running Monte Carlo simulation number 30.\n",
      "Running Monte Carlo simulation number 40.\n",
      "Running Monte Carlo simulation number 50.\n",
      "Running Monte Carlo simulation number 60.\n",
      "Running Monte Carlo simulation number 70.\n",
      "Running Monte Carlo simulation number 80.\n",
      "Running Monte Carlo simulation number 90.\n",
      "Running Monte Carlo simulation number 100.\n"
     ]
    },
    {
     "name": "stderr",
     "output_type": "stream",
     "text": [
      "/Users/fatihezgin/Desktop/Week5-Challange/MCForecastTools.py:117: PerformanceWarning: DataFrame is highly fragmented.  This is usually the result of calling `frame.insert` many times, which has poor performance.  Consider joining all columns at once using pd.concat(axis=1) instead.  To get a de-fragmented frame, use `newframe = frame.copy()`\n",
      "  portfolio_cumulative_returns[n] = (1 + sim_df.fillna(0)).cumprod()\n"
     ]
    },
    {
     "name": "stdout",
     "output_type": "stream",
     "text": [
      "Running Monte Carlo simulation number 110.\n",
      "Running Monte Carlo simulation number 120.\n",
      "Running Monte Carlo simulation number 130.\n",
      "Running Monte Carlo simulation number 140.\n",
      "Running Monte Carlo simulation number 150.\n",
      "Running Monte Carlo simulation number 160.\n",
      "Running Monte Carlo simulation number 170.\n",
      "Running Monte Carlo simulation number 180.\n",
      "Running Monte Carlo simulation number 190.\n",
      "Running Monte Carlo simulation number 200.\n",
      "Running Monte Carlo simulation number 210.\n",
      "Running Monte Carlo simulation number 220.\n",
      "Running Monte Carlo simulation number 230.\n",
      "Running Monte Carlo simulation number 240.\n",
      "Running Monte Carlo simulation number 250.\n",
      "Running Monte Carlo simulation number 260.\n",
      "Running Monte Carlo simulation number 270.\n",
      "Running Monte Carlo simulation number 280.\n",
      "Running Monte Carlo simulation number 290.\n",
      "Running Monte Carlo simulation number 300.\n",
      "Running Monte Carlo simulation number 310.\n",
      "Running Monte Carlo simulation number 320.\n",
      "Running Monte Carlo simulation number 330.\n",
      "Running Monte Carlo simulation number 340.\n",
      "Running Monte Carlo simulation number 350.\n",
      "Running Monte Carlo simulation number 360.\n",
      "Running Monte Carlo simulation number 370.\n",
      "Running Monte Carlo simulation number 380.\n",
      "Running Monte Carlo simulation number 390.\n",
      "Running Monte Carlo simulation number 400.\n",
      "Running Monte Carlo simulation number 410.\n",
      "Running Monte Carlo simulation number 420.\n",
      "Running Monte Carlo simulation number 430.\n",
      "Running Monte Carlo simulation number 440.\n",
      "Running Monte Carlo simulation number 450.\n",
      "Running Monte Carlo simulation number 460.\n",
      "Running Monte Carlo simulation number 470.\n",
      "Running Monte Carlo simulation number 480.\n",
      "Running Monte Carlo simulation number 490.\n"
     ]
    },
    {
     "data": {
      "text/html": [
       "<div>\n",
       "<style scoped>\n",
       "    .dataframe tbody tr th:only-of-type {\n",
       "        vertical-align: middle;\n",
       "    }\n",
       "\n",
       "    .dataframe tbody tr th {\n",
       "        vertical-align: top;\n",
       "    }\n",
       "\n",
       "    .dataframe thead th {\n",
       "        text-align: right;\n",
       "    }\n",
       "</style>\n",
       "<table border=\"1\" class=\"dataframe\">\n",
       "  <thead>\n",
       "    <tr style=\"text-align: right;\">\n",
       "      <th></th>\n",
       "      <th>0</th>\n",
       "      <th>1</th>\n",
       "      <th>2</th>\n",
       "      <th>3</th>\n",
       "      <th>4</th>\n",
       "      <th>5</th>\n",
       "      <th>6</th>\n",
       "      <th>7</th>\n",
       "      <th>8</th>\n",
       "      <th>9</th>\n",
       "      <th>...</th>\n",
       "      <th>490</th>\n",
       "      <th>491</th>\n",
       "      <th>492</th>\n",
       "      <th>493</th>\n",
       "      <th>494</th>\n",
       "      <th>495</th>\n",
       "      <th>496</th>\n",
       "      <th>497</th>\n",
       "      <th>498</th>\n",
       "      <th>499</th>\n",
       "    </tr>\n",
       "  </thead>\n",
       "  <tbody>\n",
       "    <tr>\n",
       "      <th>0</th>\n",
       "      <td>1.000000</td>\n",
       "      <td>1.000000</td>\n",
       "      <td>1.000000</td>\n",
       "      <td>1.000000</td>\n",
       "      <td>1.000000</td>\n",
       "      <td>1.000000</td>\n",
       "      <td>1.000000</td>\n",
       "      <td>1.000000</td>\n",
       "      <td>1.000000</td>\n",
       "      <td>1.000000</td>\n",
       "      <td>...</td>\n",
       "      <td>1.000000</td>\n",
       "      <td>1.000000</td>\n",
       "      <td>1.000000</td>\n",
       "      <td>1.000000</td>\n",
       "      <td>1.000000</td>\n",
       "      <td>1.000000</td>\n",
       "      <td>1.000000</td>\n",
       "      <td>1.000000</td>\n",
       "      <td>1.000000</td>\n",
       "      <td>1.000000</td>\n",
       "    </tr>\n",
       "    <tr>\n",
       "      <th>1</th>\n",
       "      <td>1.008240</td>\n",
       "      <td>0.996553</td>\n",
       "      <td>1.029452</td>\n",
       "      <td>0.989204</td>\n",
       "      <td>0.998475</td>\n",
       "      <td>0.996664</td>\n",
       "      <td>0.992966</td>\n",
       "      <td>0.994541</td>\n",
       "      <td>1.012474</td>\n",
       "      <td>1.013717</td>\n",
       "      <td>...</td>\n",
       "      <td>0.984346</td>\n",
       "      <td>1.018066</td>\n",
       "      <td>1.005164</td>\n",
       "      <td>1.013664</td>\n",
       "      <td>0.999452</td>\n",
       "      <td>0.998002</td>\n",
       "      <td>0.995779</td>\n",
       "      <td>1.006175</td>\n",
       "      <td>1.004195</td>\n",
       "      <td>1.010638</td>\n",
       "    </tr>\n",
       "    <tr>\n",
       "      <th>2</th>\n",
       "      <td>1.012556</td>\n",
       "      <td>1.001000</td>\n",
       "      <td>1.030621</td>\n",
       "      <td>0.985330</td>\n",
       "      <td>1.005266</td>\n",
       "      <td>0.987274</td>\n",
       "      <td>0.998525</td>\n",
       "      <td>1.020939</td>\n",
       "      <td>1.026654</td>\n",
       "      <td>1.015635</td>\n",
       "      <td>...</td>\n",
       "      <td>0.988679</td>\n",
       "      <td>1.019501</td>\n",
       "      <td>1.008710</td>\n",
       "      <td>1.005185</td>\n",
       "      <td>0.987868</td>\n",
       "      <td>0.999102</td>\n",
       "      <td>0.997212</td>\n",
       "      <td>0.999650</td>\n",
       "      <td>1.002408</td>\n",
       "      <td>1.001491</td>\n",
       "    </tr>\n",
       "    <tr>\n",
       "      <th>3</th>\n",
       "      <td>0.995262</td>\n",
       "      <td>1.002765</td>\n",
       "      <td>1.038418</td>\n",
       "      <td>0.973906</td>\n",
       "      <td>0.990194</td>\n",
       "      <td>0.995766</td>\n",
       "      <td>1.007123</td>\n",
       "      <td>1.008894</td>\n",
       "      <td>1.016842</td>\n",
       "      <td>1.014875</td>\n",
       "      <td>...</td>\n",
       "      <td>0.990576</td>\n",
       "      <td>1.019870</td>\n",
       "      <td>1.013832</td>\n",
       "      <td>1.010218</td>\n",
       "      <td>0.998005</td>\n",
       "      <td>0.990202</td>\n",
       "      <td>0.984697</td>\n",
       "      <td>0.993291</td>\n",
       "      <td>0.985128</td>\n",
       "      <td>0.995850</td>\n",
       "    </tr>\n",
       "    <tr>\n",
       "      <th>4</th>\n",
       "      <td>0.975335</td>\n",
       "      <td>0.994067</td>\n",
       "      <td>1.028560</td>\n",
       "      <td>0.975151</td>\n",
       "      <td>0.988107</td>\n",
       "      <td>1.021769</td>\n",
       "      <td>1.003959</td>\n",
       "      <td>1.021569</td>\n",
       "      <td>1.012976</td>\n",
       "      <td>1.010486</td>\n",
       "      <td>...</td>\n",
       "      <td>0.976546</td>\n",
       "      <td>1.028305</td>\n",
       "      <td>1.012575</td>\n",
       "      <td>0.997420</td>\n",
       "      <td>0.984376</td>\n",
       "      <td>0.988794</td>\n",
       "      <td>0.992679</td>\n",
       "      <td>0.979305</td>\n",
       "      <td>0.981250</td>\n",
       "      <td>1.028895</td>\n",
       "    </tr>\n",
       "    <tr>\n",
       "      <th>...</th>\n",
       "      <td>...</td>\n",
       "      <td>...</td>\n",
       "      <td>...</td>\n",
       "      <td>...</td>\n",
       "      <td>...</td>\n",
       "      <td>...</td>\n",
       "      <td>...</td>\n",
       "      <td>...</td>\n",
       "      <td>...</td>\n",
       "      <td>...</td>\n",
       "      <td>...</td>\n",
       "      <td>...</td>\n",
       "      <td>...</td>\n",
       "      <td>...</td>\n",
       "      <td>...</td>\n",
       "      <td>...</td>\n",
       "      <td>...</td>\n",
       "      <td>...</td>\n",
       "      <td>...</td>\n",
       "      <td>...</td>\n",
       "      <td>...</td>\n",
       "    </tr>\n",
       "    <tr>\n",
       "      <th>2516</th>\n",
       "      <td>1.517240</td>\n",
       "      <td>1.958376</td>\n",
       "      <td>7.990376</td>\n",
       "      <td>2.380259</td>\n",
       "      <td>4.254596</td>\n",
       "      <td>3.635983</td>\n",
       "      <td>9.076470</td>\n",
       "      <td>6.084797</td>\n",
       "      <td>4.944759</td>\n",
       "      <td>11.494771</td>\n",
       "      <td>...</td>\n",
       "      <td>2.218164</td>\n",
       "      <td>2.502687</td>\n",
       "      <td>3.238422</td>\n",
       "      <td>1.210170</td>\n",
       "      <td>3.854602</td>\n",
       "      <td>3.687230</td>\n",
       "      <td>2.685414</td>\n",
       "      <td>4.855249</td>\n",
       "      <td>6.104272</td>\n",
       "      <td>3.517411</td>\n",
       "    </tr>\n",
       "    <tr>\n",
       "      <th>2517</th>\n",
       "      <td>1.517995</td>\n",
       "      <td>1.956691</td>\n",
       "      <td>8.044136</td>\n",
       "      <td>2.407100</td>\n",
       "      <td>4.306438</td>\n",
       "      <td>3.616346</td>\n",
       "      <td>9.287017</td>\n",
       "      <td>5.990794</td>\n",
       "      <td>4.972187</td>\n",
       "      <td>11.352840</td>\n",
       "      <td>...</td>\n",
       "      <td>2.233013</td>\n",
       "      <td>2.516459</td>\n",
       "      <td>3.191877</td>\n",
       "      <td>1.199973</td>\n",
       "      <td>3.856111</td>\n",
       "      <td>3.699386</td>\n",
       "      <td>2.695193</td>\n",
       "      <td>4.889829</td>\n",
       "      <td>6.114099</td>\n",
       "      <td>3.557624</td>\n",
       "    </tr>\n",
       "    <tr>\n",
       "      <th>2518</th>\n",
       "      <td>1.534996</td>\n",
       "      <td>1.952564</td>\n",
       "      <td>8.011016</td>\n",
       "      <td>2.394648</td>\n",
       "      <td>4.258388</td>\n",
       "      <td>3.637286</td>\n",
       "      <td>9.342557</td>\n",
       "      <td>5.992420</td>\n",
       "      <td>4.825227</td>\n",
       "      <td>11.507357</td>\n",
       "      <td>...</td>\n",
       "      <td>2.204034</td>\n",
       "      <td>2.493184</td>\n",
       "      <td>3.194161</td>\n",
       "      <td>1.210534</td>\n",
       "      <td>3.892716</td>\n",
       "      <td>3.753806</td>\n",
       "      <td>2.687452</td>\n",
       "      <td>4.900454</td>\n",
       "      <td>6.159382</td>\n",
       "      <td>3.539256</td>\n",
       "    </tr>\n",
       "    <tr>\n",
       "      <th>2519</th>\n",
       "      <td>1.526980</td>\n",
       "      <td>1.958402</td>\n",
       "      <td>8.070471</td>\n",
       "      <td>2.354783</td>\n",
       "      <td>4.258721</td>\n",
       "      <td>3.640457</td>\n",
       "      <td>9.230482</td>\n",
       "      <td>5.983775</td>\n",
       "      <td>4.841323</td>\n",
       "      <td>11.773828</td>\n",
       "      <td>...</td>\n",
       "      <td>2.135664</td>\n",
       "      <td>2.518144</td>\n",
       "      <td>3.185804</td>\n",
       "      <td>1.211921</td>\n",
       "      <td>3.824639</td>\n",
       "      <td>3.737046</td>\n",
       "      <td>2.723642</td>\n",
       "      <td>4.922086</td>\n",
       "      <td>6.210827</td>\n",
       "      <td>3.507131</td>\n",
       "    </tr>\n",
       "    <tr>\n",
       "      <th>2520</th>\n",
       "      <td>1.524693</td>\n",
       "      <td>2.008455</td>\n",
       "      <td>8.028845</td>\n",
       "      <td>2.365580</td>\n",
       "      <td>4.267482</td>\n",
       "      <td>3.599092</td>\n",
       "      <td>9.268856</td>\n",
       "      <td>5.918327</td>\n",
       "      <td>4.797167</td>\n",
       "      <td>11.881298</td>\n",
       "      <td>...</td>\n",
       "      <td>2.098689</td>\n",
       "      <td>2.512011</td>\n",
       "      <td>3.211181</td>\n",
       "      <td>1.202195</td>\n",
       "      <td>3.842808</td>\n",
       "      <td>3.737751</td>\n",
       "      <td>2.706839</td>\n",
       "      <td>4.918101</td>\n",
       "      <td>6.178291</td>\n",
       "      <td>3.467868</td>\n",
       "    </tr>\n",
       "  </tbody>\n",
       "</table>\n",
       "<p>2521 rows × 500 columns</p>\n",
       "</div>"
      ],
      "text/plain": [
       "           0         1         2         3         4         5         6    \\\n",
       "0     1.000000  1.000000  1.000000  1.000000  1.000000  1.000000  1.000000   \n",
       "1     1.008240  0.996553  1.029452  0.989204  0.998475  0.996664  0.992966   \n",
       "2     1.012556  1.001000  1.030621  0.985330  1.005266  0.987274  0.998525   \n",
       "3     0.995262  1.002765  1.038418  0.973906  0.990194  0.995766  1.007123   \n",
       "4     0.975335  0.994067  1.028560  0.975151  0.988107  1.021769  1.003959   \n",
       "...        ...       ...       ...       ...       ...       ...       ...   \n",
       "2516  1.517240  1.958376  7.990376  2.380259  4.254596  3.635983  9.076470   \n",
       "2517  1.517995  1.956691  8.044136  2.407100  4.306438  3.616346  9.287017   \n",
       "2518  1.534996  1.952564  8.011016  2.394648  4.258388  3.637286  9.342557   \n",
       "2519  1.526980  1.958402  8.070471  2.354783  4.258721  3.640457  9.230482   \n",
       "2520  1.524693  2.008455  8.028845  2.365580  4.267482  3.599092  9.268856   \n",
       "\n",
       "           7         8          9    ...       490       491       492  \\\n",
       "0     1.000000  1.000000   1.000000  ...  1.000000  1.000000  1.000000   \n",
       "1     0.994541  1.012474   1.013717  ...  0.984346  1.018066  1.005164   \n",
       "2     1.020939  1.026654   1.015635  ...  0.988679  1.019501  1.008710   \n",
       "3     1.008894  1.016842   1.014875  ...  0.990576  1.019870  1.013832   \n",
       "4     1.021569  1.012976   1.010486  ...  0.976546  1.028305  1.012575   \n",
       "...        ...       ...        ...  ...       ...       ...       ...   \n",
       "2516  6.084797  4.944759  11.494771  ...  2.218164  2.502687  3.238422   \n",
       "2517  5.990794  4.972187  11.352840  ...  2.233013  2.516459  3.191877   \n",
       "2518  5.992420  4.825227  11.507357  ...  2.204034  2.493184  3.194161   \n",
       "2519  5.983775  4.841323  11.773828  ...  2.135664  2.518144  3.185804   \n",
       "2520  5.918327  4.797167  11.881298  ...  2.098689  2.512011  3.211181   \n",
       "\n",
       "           493       494       495       496       497       498       499  \n",
       "0     1.000000  1.000000  1.000000  1.000000  1.000000  1.000000  1.000000  \n",
       "1     1.013664  0.999452  0.998002  0.995779  1.006175  1.004195  1.010638  \n",
       "2     1.005185  0.987868  0.999102  0.997212  0.999650  1.002408  1.001491  \n",
       "3     1.010218  0.998005  0.990202  0.984697  0.993291  0.985128  0.995850  \n",
       "4     0.997420  0.984376  0.988794  0.992679  0.979305  0.981250  1.028895  \n",
       "...        ...       ...       ...       ...       ...       ...       ...  \n",
       "2516  1.210170  3.854602  3.687230  2.685414  4.855249  6.104272  3.517411  \n",
       "2517  1.199973  3.856111  3.699386  2.695193  4.889829  6.114099  3.557624  \n",
       "2518  1.210534  3.892716  3.753806  2.687452  4.900454  6.159382  3.539256  \n",
       "2519  1.211921  3.824639  3.737046  2.723642  4.922086  6.210827  3.507131  \n",
       "2520  1.202195  3.842808  3.737751  2.706839  4.918101  6.178291  3.467868  \n",
       "\n",
       "[2521 rows x 500 columns]"
      ]
     },
     "execution_count": 68,
     "metadata": {},
     "output_type": "execute_result"
    }
   ],
   "source": [
    "# Run the Monte Carlo simulation to forecast 10 years cumulative returns\n",
    "MC_Ten_Year.calc_cumulative_return()"
   ]
  },
  {
   "cell_type": "code",
   "execution_count": 69,
   "metadata": {},
   "outputs": [
    {
     "data": {
      "text/plain": [
       "<AxesSubplot:title={'center':'500 Simulations of Cumulative Portfolio Return Trajectories Over the Next 2520 Trading Days.'}>"
      ]
     },
     "execution_count": 69,
     "metadata": {},
     "output_type": "execute_result"
    },
    {
     "data": {
      "image/png": "[encoded data removed]",
      "text/plain": [
       "<Figure size 432x288 with 1 Axes>"
      ]
     },
     "metadata": {
      "needs_background": "light"
     },
     "output_type": "display_data"
    }
   ],
   "source": [
    "# Visualize the 10-year Monte Carlo simulation by creating an\n",
    "# overlay line plot\n",
    "MC_Ten_Year.plot_simulation()"
   ]
  },
  {
   "cell_type": "code",
   "execution_count": 70,
   "metadata": {},
   "outputs": [
    {
     "data": {
      "text/plain": [
       "<AxesSubplot:title={'center':'Distribution of Final Cumuluative Returns Across All 500 Simulations'}, ylabel='Frequency'>"
      ]
     },
     "execution_count": 70,
     "metadata": {},
     "output_type": "execute_result"
    },
    {
     "data": {
      "image/png": "[encoded data removed]",
      "text/plain": [
       "<Figure size 432x288 with 1 Axes>"
      ]
     },
     "metadata": {
      "needs_background": "light"
     },
     "output_type": "display_data"
    }
   ],
   "source": [
    "# Visualize the probability distribution of the 10-year Monte Carlo simulation \n",
    "# by plotting a histogram\n",
    "MC_Ten_Year.plot_distribution()\n"
   ]
  },
  {
   "cell_type": "code",
   "execution_count": 71,
   "metadata": {},
   "outputs": [
    {
     "name": "stdout",
     "output_type": "stream",
     "text": [
      "count           500.000000\n",
      "mean              3.744011\n",
      "std               2.172988\n",
      "min               0.336634\n",
      "25%               2.290174\n",
      "50%               3.224151\n",
      "75%               4.575059\n",
      "max              15.070965\n",
      "95% CI Lower      1.152546\n",
      "95% CI Upper      9.630699\n",
      "Name: 2520, dtype: float64\n"
     ]
    }
   ],
   "source": [
    "# Generate summary statistics from the 10-year Monte Carlo simulation results\n",
    "# Save the results as a variable\n",
    "ten_year_stats=MC_Ten_Year.summarize_cumulative_return()\n",
    "\n",
    "\n",
    "# Review the 10-year Monte Carlo summary statistics\n",
    "print(ten_year_stats)"
   ]
  },
  {
   "cell_type": "markdown",
   "metadata": {},
   "source": [
    "### Answer the following questions:"
   ]
  },
  {
   "cell_type": "markdown",
   "metadata": {},
   "source": [
    "#### Question: Using the current value of only the stock and bond portion of the member's portfolio and the summary statistics that you generated from the new Monte Carlo simulation, what are the lower and upper bounds for the expected value of the portfolio (with the new weights) with a 95% confidence interval?"
   ]
  },
  {
   "cell_type": "code",
   "execution_count": 72,
   "metadata": {},
   "outputs": [
    {
     "name": "stdout",
     "output_type": "stream",
     "text": [
      "73401\n"
     ]
    }
   ],
   "source": [
    "# Print the current balance of the stock and bond portion of the members portfolio\n",
    "print(round(total_stocks_bonds))\n",
    " "
   ]
  },
  {
   "cell_type": "code",
   "execution_count": 73,
   "metadata": {},
   "outputs": [
    {
     "name": "stdout",
     "output_type": "stream",
     "text": [
      "This portfolio is expected to be worth between 84598 and 706906 within a 95% confidence interval in ten years.\n"
     ]
    }
   ],
   "source": [
    "# Use the lower and upper `95%` confidence intervals to calculate the range of the possible outcomes for the current stock/bond portfolio\n",
    "ci_lower_ten_cumulative_return = round(total_stocks_bonds*ten_year_stats[8])\n",
    "ci_upper_ten_cumulative_return = round(total_stocks_bonds*ten_year_stats[9])\n",
    "\n",
    "# Print the result of your calculations\n",
    "print(f'This portfolio is expected to be worth between {ci_lower_ten_cumulative_return} and {ci_upper_ten_cumulative_return} within a 95% confidence interval in ten years.')\n"
   ]
  },
  {
   "cell_type": "markdown",
   "metadata": {},
   "source": [
    "#### Question: Will weighting the portfolio more heavily to stocks allow the credit union members to retire after only 10 years?"
   ]
  },
  {
   "cell_type": "markdown",
   "metadata": {},
   "source": [
    "\"This portfolio is expected to be worth between $308,040  and $5,268,713 with a mean value of  $1,588,442 within a 95% confidence interval in thirty years from today. This portfolio is expected to be worth between $ 84,598 and $706,906 with a mean value of  $274,814 within a 95% confidence interval in ten years. This member may be ok in Southeast Asia or parts of South America with 10 years of retirement savings but will run out of money in most of North America. Nobody should run out of money in old age therefore s/he should keep working. What's s/he gonna do retiring at such a young age anyways?\""
   ]
  }
 ],
 "metadata": {
  "kernelspec": {
   "display_name": "Python 3 (ipykernel)",
   "language": "python",
   "name": "python3"
  },
  "language_info": {
   "codemirror_mode": {
    "name": "ipython",
    "version": 3
   },
   "file_extension": ".py",
   "mimetype": "text/x-python",
   "name": "python",
   "nbconvert_exporter": "python",
   "pygments_lexer": "ipython3",
   "version": "3.8.12"
  }
 },
 "nbformat": 4,
 "nbformat_minor": 4
}
